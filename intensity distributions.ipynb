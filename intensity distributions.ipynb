{
 "cells": [
  {
   "cell_type": "code",
   "execution_count": null,
   "metadata": {},
   "outputs": [],
   "source": [
    "import numpy as np\n",
    "import pandas as pd\n",
    "from matplotlib import pyplot as plt\n",
    "import scipy.stats\n",
    "from scipy.optimize import minimize\n",
    "from scipy.special import factorial\n",
    "import seaborn as sns\n",
    "sns.set()\n",
    "\n",
    "import netCDF4\n",
    "import os\n",
    "import time\n",
    "import xarray"
   ]
  },
  {
   "cell_type": "code",
   "execution_count": null,
   "metadata": {},
   "outputs": [],
   "source": [
    "phil_cyclones = pd.read_pickle(os.path.join('..','deconstruct_cyn','phil_cyclones.pkl'))"
   ]
  },
  {
   "cell_type": "markdown",
   "metadata": {},
   "source": [
    "# Intensity Distributions.\n",
    "\n",
    "Input:\n",
    "\n",
    "phil_cyclones - a list of all the cyclones from ibtracs with etopo height data within phillipines bounding box.\n",
    "\n",
    "Output:\n",
    "\n",
    "Probability density of intensity (choose v_max or p_min below) distribution with chi-square fit.\n",
    "\n",
    "I want to create a plot of the highest v_max a given cyclone ever reaches.\n",
    "I want to create a plot of the v_max cyclones reach the timestep before landfall."
   ]
  },
  {
   "cell_type": "markdown",
   "metadata": {},
   "source": [
    "## Choose an agency and distribution type"
   ]
  },
  {
   "cell_type": "code",
   "execution_count": null,
   "metadata": {},
   "outputs": [],
   "source": [
    "ag_choice = 'WMO'\n",
    "v_or_p = 'min_pres' #max_wind or min_pres"
   ]
  },
  {
   "cell_type": "code",
   "execution_count": null,
   "metadata": {},
   "outputs": [],
   "source": [
    "agency = {\n",
    "    'JTWC': '10',\n",
    "    'CMA' : '14',\n",
    "    'WMO' : '19',\n",
    "    'HKO' : '21'\n",
    "}\n",
    "\n",
    "phil_chosen_org = phil_cyclones[phil_cyclones.center == agency[ag_choice]]"
   ]
  },
  {
   "cell_type": "code",
   "execution_count": null,
   "metadata": {},
   "outputs": [],
   "source": [
    "#Choose the highest v_max a cyclone reaches.\n",
    "phil_chosen_org.sort_values('storm_sn')\n",
    "phil_chosen_org[v_or_p].isnull().any()"
   ]
  },
  {
   "cell_type": "markdown",
   "metadata": {},
   "source": [
    "Some of the agencies have missing values for the maximum wind and minimum pressure.\n",
    "\n",
    "#### Are any of the values null?\n",
    "\n",
    "| Agency | Max Wind | Min Pressure |\n",
    "|--------|----------|--------------|\n",
    "| JTWC   | Yes      | Yes          |\n",
    "| CMA    | Yes      | No           |\n",
    "| WMO    | Yes      | No           |\n",
    "| HKO    | No       | No           |"
   ]
  },
  {
   "cell_type": "code",
   "execution_count": null,
   "metadata": {},
   "outputs": [],
   "source": []
  },
  {
   "cell_type": "code",
   "execution_count": null,
   "metadata": {},
   "outputs": [],
   "source": [
    "philwithoutna = phil_chosen_org[phil_chosen_org[v_or_p].notnull()]"
   ]
  },
  {
   "cell_type": "code",
   "execution_count": null,
   "metadata": {},
   "outputs": [],
   "source": [
    "philwithoutna"
   ]
  },
  {
   "cell_type": "code",
   "execution_count": null,
   "metadata": {},
   "outputs": [],
   "source": [
    "intensity = philwithoutna.groupby('storm_sn')['max_wind','min_pres'].max()"
   ]
  },
  {
   "cell_type": "code",
   "execution_count": null,
   "metadata": {},
   "outputs": [],
   "source": [
    "probdist = intensity[v_or_p].value_counts().sort_index()\n",
    "probdist.describe()"
   ]
  },
  {
   "cell_type": "code",
   "execution_count": null,
   "metadata": {},
   "outputs": [],
   "source": [
    "philwithoutna[philwithoutna.storm_sn == b'1978253N21124']"
   ]
  },
  {
   "cell_type": "code",
   "execution_count": null,
   "metadata": {},
   "outputs": [],
   "source": [
    "plt.scatter(probdist.index, probdist.values)\n",
    "plt.xlabel('{} of cyclone along track within phillipines box'.format(v_or_p))\n",
    "plt.ylabel('Number of cyclones in sample')\n",
    "plt.title('{} {}'.format(ag_choice, v_or_p))\n",
    "\n",
    "figpath = os.path.join('figures','{} {}.png'.format(ag_choice, v_or_p))\n",
    "plt.savefig(figpath)"
   ]
  },
  {
   "cell_type": "code",
   "execution_count": null,
   "metadata": {},
   "outputs": [],
   "source": []
  },
  {
   "cell_type": "code",
   "execution_count": null,
   "metadata": {},
   "outputs": [],
   "source": []
  },
  {
   "cell_type": "code",
   "execution_count": null,
   "metadata": {},
   "outputs": [],
   "source": []
  },
  {
   "cell_type": "markdown",
   "metadata": {},
   "source": [
    "-----------------------------------"
   ]
  },
  {
   "cell_type": "code",
   "execution_count": null,
   "metadata": {},
   "outputs": [],
   "source": [
    "phil7withoutna = phil_cyclones[phil_cyclones[v_or_p].notnull()]"
   ]
  },
  {
   "cell_type": "code",
   "execution_count": null,
   "metadata": {},
   "outputs": [],
   "source": [
    "intensity7 = phil7withoutna.groupby(['storm_sn', 'center'])['max_wind','min_pres'].max().unstack()"
   ]
  },
  {
   "cell_type": "code",
   "execution_count": null,
   "metadata": {},
   "outputs": [],
   "source": [
    "probdist7 = intensity7[v_or_p][agency[ag_choice]].value_counts().sort_index()\n",
    "probdist7"
   ]
  },
  {
   "cell_type": "code",
   "execution_count": null,
   "metadata": {},
   "outputs": [],
   "source": [
    "plt.scatter(probdist7.index, probdist7.values)\n",
    "plt.xlabel('{} of cyclone along track within phillipines box'.format(v_or_p))\n",
    "plt.ylabel('Number of cyclones in sample')\n",
    "plt.title('{} {}'.format(ag_choice, v_or_p))\n",
    "\n",
    "figpath = os.path.join('figures','{} {}.png'.format(ag_choice, v_or_p))\n",
    "plt.savefig(figpath)"
   ]
  },
  {
   "cell_type": "raw",
   "metadata": {},
   "source": [
    "num = ['1','10','11','12','14','19','21']\n",
    "nam = ['TD9636','JTWC','DS8','TD9635','CMA','WMO','HKO']\n",
    "\n",
    "cols = dict(zip(nam, num))\n",
    "intensity7['max_wind'].rename(cols,axis='columns')"
   ]
  },
  {
   "cell_type": "code",
   "execution_count": null,
   "metadata": {},
   "outputs": [],
   "source": []
  },
  {
   "cell_type": "code",
   "execution_count": null,
   "metadata": {},
   "outputs": [],
   "source": []
  },
  {
   "cell_type": "code",
   "execution_count": null,
   "metadata": {},
   "outputs": [],
   "source": [
    "sns.pairplot(intensity7[v_or_p][['10','14','19','21']]).savefig(os.path.join('figures','{} pairplot.png'.format(v_or_p)))"
   ]
  },
  {
   "cell_type": "code",
   "execution_count": null,
   "metadata": {},
   "outputs": [],
   "source": [
    "sns.pairplot(intensity7['min_pres'][['10','14','19','21']])"
   ]
  },
  {
   "cell_type": "markdown",
   "metadata": {},
   "source": [
    "### Code ends here."
   ]
  },
  {
   "cell_type": "markdown",
   "metadata": {},
   "source": [
    "------------------------------"
   ]
  },
  {
   "cell_type": "raw",
   "metadata": {},
   "source": [
    "normedlfc = landfallcounts/landfallcounts.sum()\n",
    "normedlfc"
   ]
  },
  {
   "cell_type": "raw",
   "metadata": {},
   "source": [
    "def poisson(x, lamb):\n",
    "    \"\"\" return poisson of x with rate lamb,\n",
    "    Expect:\n",
    "    x - integer. (although this function works for floats too, factorial function calls scipy.special.gamma.\n",
    "    lamb - >= 0\n",
    "    \"\"\"\n",
    "    result = np.exp(-lamb) * (lamb ** x)/factorial(x)\n",
    "    return result\n",
    "    \n",
    "    \n",
    "def negLogLikelihood(params, data):\n",
    "    \"\"\" the negative log-Likelohood-Function\"\"\"\n",
    "    lnl = - np.sum(np.log(poisson(data, params[0]))) #params[0] = lambda\n",
    "    return lnl\n",
    "\n",
    "\n",
    "# get poisson deviated random numbers\n",
    "#data = np.random.poisson(2, 1000)\n",
    "data = landfallsbyyear.values\n",
    "\n",
    "# minimize the negative log-Likelihood\n",
    "\n",
    "result = minimize(negLogLikelihood,  # function to minimize\n",
    "                  x0=np.ones(1),     # start value\n",
    "                  args=(data,),      # additional arguments for function\n",
    "                  method='Powell',   # minimization method, see docs\n",
    "                  )\n",
    "# result is a scipy optimize result object, the fit parameters \n",
    "# are stored in result.x\n",
    "print(result)"
   ]
  },
  {
   "cell_type": "raw",
   "metadata": {},
   "source": [
    "d = {\n",
    "    'landfallcounts': landfallcounts.values, \n",
    "    'poisson_scale': poisson(landfallcounts.index, result.x) * landfallcounts.sum()\n",
    "    }\n",
    "\n",
    "chisq = pd.DataFrame(data=d, index = landfallcounts.index)\n",
    "chisq"
   ]
  },
  {
   "cell_type": "raw",
   "metadata": {},
   "source": [
    "chisq['over'] = (chisq.landfallcounts - 0.5)[chisq.landfallcounts > chisq.poisson_scale]"
   ]
  },
  {
   "cell_type": "raw",
   "metadata": {},
   "source": [
    "chisq['under'] = (chisq.landfallcounts + 0.5)[chisq.landfallcounts < chisq.poisson_scale]"
   ]
  },
  {
   "cell_type": "raw",
   "metadata": {},
   "source": [
    "chisq['yates'] = chisq['over']"
   ]
  },
  {
   "cell_type": "raw",
   "metadata": {},
   "source": [
    "chisq['yates'] = chisq['yates'].fillna(chisq.under)"
   ]
  },
  {
   "cell_type": "raw",
   "metadata": {},
   "source": [
    "chisq"
   ]
  },
  {
   "cell_type": "raw",
   "metadata": {},
   "source": [
    "plt.scatter(chisq.index, chisq.landfallcounts, label = 'uncorrected')\n",
    "plt.scatter(chisq.index, chisq.yates, label = 'yates continuity')\n",
    "plt.plot(chisq.index, chisq.poisson_scale, label = 'poisson fit')\n",
    "plt.xlabel('number of landfalling cyclones per year')\n",
    "plt.ylabel('number of years in sample \\n Total = {}'.format(len(landfallsbyyear.index)))\n",
    "plt.title('{} Yates Correction'.format(ag_choice))\n",
    "plt.legend()\n",
    "\n",
    "plt.savefig(os.path.join('figures','{}yatescorrection.png'.format(ag_choice)))"
   ]
  },
  {
   "cell_type": "raw",
   "metadata": {},
   "source": [
    "chi_squared, p_val = scipy.stats.chisquare(chisq.yates, chisq.poisson_scale)\n",
    "deg_freedom = len(chisq) - 1 # -1 because we fit a poisson distribution with one degree of freedom to it."
   ]
  },
  {
   "cell_type": "raw",
   "metadata": {},
   "source": [
    "# plot poisson-deviation with fitted parameter\n",
    "x_plot = np.linspace(normedlfc.index.min(), normedlfc.index.max(),1000)\n",
    "y_fit = poisson(x_plot, result.x)\n",
    "#x_plot = landfallcounts.index\n",
    "\n",
    "plt.scatter(normedlfc.index, normedlfc.values)\n",
    "plt.plot(x_plot, y_fit, 'r-', lw=2)\n",
    "plt.xlabel(\"Number of landfalling cyclones per year\")\n",
    "plt.ylabel(\"Fraction of sample\")\n",
    "plt.legend([\"Poisson fit\",\"{} data\".format(ag_choice)])\n",
    "plt.text(12.0, 0.13, \"{} Cyclones\".format(len(no_dup)))\n",
    "plt.text(12.0, 0.12, \"chi sq = {:.2e}\".format(chi_squared))\n",
    "plt.text(12.0, 0.11, \"p value = {:.2e}\".format(p_val))\n",
    "plt.title(\"Probability density of landfall per year. \\nMean rate = {:.2f} | P Value = {:.2e}\".format(result.x, p_val))\n",
    "plt.savefig(os.path.join('figures','{}landfallprobability.png'.format(ag_choice)))"
   ]
  }
 ],
 "metadata": {
  "kernelspec": {
   "display_name": "Python 3",
   "language": "python",
   "name": "python3"
  },
  "language_info": {
   "codemirror_mode": {
    "name": "ipython",
    "version": 3
   },
   "file_extension": ".py",
   "mimetype": "text/x-python",
   "name": "python",
   "nbconvert_exporter": "python",
   "pygments_lexer": "ipython3",
   "version": "3.6.6"
  }
 },
 "nbformat": 4,
 "nbformat_minor": 2
}
