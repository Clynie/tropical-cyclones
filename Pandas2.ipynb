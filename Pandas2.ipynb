{
 "cells": [
  {
   "cell_type": "code",
   "execution_count": null,
   "metadata": {},
   "outputs": [],
   "source": [
    "import netCDF4\n",
    "import numpy as np\n",
    "import os\n",
    "import pandas as pd\n",
    "import time"
   ]
  },
  {
   "cell_type": "code",
   "execution_count": null,
   "metadata": {},
   "outputs": [],
   "source": [
    "tic = time.process_time()\n",
    "\n",
    "nc_ibtracs = 'Allstorms.ibtracs_all.v03r10.nc'\n",
    "path_to_nc = os.path.join('..','deconstruct_cyn',nc_ibtracs)\n",
    "\n",
    "ibt_all_fields = netCDF4.Dataset(path_to_nc)\n",
    "\n",
    "toc = time.process_time()\n",
    "elapsed = toc - tic\n",
    "print(elapsed)"
   ]
  },
  {
   "cell_type": "code",
   "execution_count": null,
   "metadata": {},
   "outputs": [],
   "source": [
    "ibt_all_fields"
   ]
  },
  {
   "cell_type": "code",
   "execution_count": null,
   "metadata": {},
   "outputs": [],
   "source": [
    "ibt_all_fields.variables[\"name\"][:].filled(np.NaN)"
   ]
  },
  {
   "cell_type": "code",
   "execution_count": null,
   "metadata": {},
   "outputs": [],
   "source": [
    "d = {}\n",
    "\n",
    "for key in ibt_all_fields.variables:\n",
    "    try:\n",
    "        d[key] = ibt_all_fields.variables[key][:].filled(np.NaN)\n",
    "    except TypeError:\n",
    "        d[key] = ibt_all_fields.variables[key][:].astype(np.float).filled(np.NaN)\n",
    "\n",
    "d"
   ]
  },
  {
   "cell_type": "code",
   "execution_count": null,
   "metadata": {},
   "outputs": [],
   "source": [
    "for k in d:\n",
    "    print(k, d[k].dtype, d[k].shape)"
   ]
  },
  {
   "cell_type": "code",
   "execution_count": null,
   "metadata": {},
   "outputs": [],
   "source": [
    "ibt_all_fields.variables['source_pres']"
   ]
  },
  {
   "cell_type": "code",
   "execution_count": null,
   "metadata": {},
   "outputs": [],
   "source": [
    "netCDF4.chartostring(ibt_all_fields.variables['storm_sn'][:])\n",
    "netCDF4.chartostring(ibt_all_fields.variables['name'][:])\n",
    "ibt_all_fields.variables['numObs'][:].filled(np.NaN)\n",
    "ibt_all_fields.variables['season'][:].filled(np.NaN)\n",
    "ibt_all_fields.variables['track_type'][:].filled(np.NaN)\n",
    "ibt_all_fields.variables['genesis_basin'][:].filled(np.NaN)\n",
    "ibt_all_fields.variables['num_basins'][:].filled(np.NaN)\n"
   ]
  },
  {
   "cell_type": "code",
   "execution_count": null,
   "metadata": {},
   "outputs": [],
   "source": [
    "for i in ibt_all_fields.variables['season'][:].data:\n",
    "    print(i)"
   ]
  },
  {
   "cell_type": "code",
   "execution_count": null,
   "metadata": {},
   "outputs": [],
   "source": [
    "cols = [\n",
    "   netCDF4.chartostring(ibt_all_fields.variables['storm_sn'][:]),\n",
    "netCDF4.chartostring(ibt_all_fields.variables['name'][:]),\n",
    "ibt_all_fields.variables['numObs'][:].filled(np.NaN),\n",
    "ibt_all_fields.variables['season'][:].filled(np.NaN),\n",
    "ibt_all_fields.variables['track_type'][:].filled(np.NaN),\n",
    "ibt_all_fields.variables['genesis_basin'][:].filled(np.NaN),\n",
    "ibt_all_fields.variables['num_basins'][:].filled(np.NaN)\n",
    "]"
   ]
  },
  {
   "cell_type": "code",
   "execution_count": null,
   "metadata": {},
   "outputs": [],
   "source": [
    "pd.DataFrame([\n",
    "   netCDF4.chartostring(ibt_all_fields.variables['storm_sn'][:]),\n",
    "netCDF4.chartostring(ibt_all_fields.variables['name'][:]),\n",
    "ibt_all_fields.variables['numObs'][:].filled(np.NaN),\n",
    "ibt_all_fields.variables['season'][:].filled(np.NaN),\n",
    "ibt_all_fields.variables['track_type'][:].filled(np.NaN),\n",
    "ibt_all_fields.variables['genesis_basin'][:].filled(np.NaN),\n",
    "ibt_all_fields.variables['num_basins'][:].filled(np.NaN)\n",
    "]).T"
   ]
  },
  {
   "cell_type": "code",
   "execution_count": null,
   "metadata": {},
   "outputs": [],
   "source": []
  }
 ],
 "metadata": {
  "kernelspec": {
   "display_name": "Python 3",
   "language": "python",
   "name": "python3"
  },
  "language_info": {
   "codemirror_mode": {
    "name": "ipython",
    "version": 3
   },
   "file_extension": ".py",
   "mimetype": "text/x-python",
   "name": "python",
   "nbconvert_exporter": "python",
   "pygments_lexer": "ipython3",
   "version": "3.6.6"
  }
 },
 "nbformat": 4,
 "nbformat_minor": 2
}
