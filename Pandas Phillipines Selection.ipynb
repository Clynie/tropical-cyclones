{
 "cells": [
  {
   "cell_type": "code",
   "execution_count": null,
   "metadata": {},
   "outputs": [],
   "source": [
    "import numpy as np\n",
    "import os\n",
    "import pandas as pd\n",
    "import matplotlib as mpl\n",
    "from matplotlib import pyplot as plt\n",
    "import seaborn as sns\n",
    "sns.set()\n",
    "\n",
    "import netCDF4\n",
    "import time\n",
    "import xarray"
   ]
  },
  {
   "cell_type": "code",
   "execution_count": null,
   "metadata": {},
   "outputs": [],
   "source": [
    "\"\"\" Read .nc file into pandas dataframe.\"\"\"\n",
    "#Runtime around 452 seconds using perf_counter.\n",
    "\n",
    "tic = time.perf_counter()\n",
    "\n",
    "nc_ibtracs = 'Allstorms.ibtracs_all.v03r10.nc'\n",
    "path_to_nc = os.path.join('..','deconstruct_cyn',nc_ibtracs)\n",
    "\n",
    "ibt_all_fields = xarray.open_dataset(path_to_nc).to_dataframe()\n",
    "# name, storm_sn, time_record, landfall, \n",
    "# genesis_basin, season, \n",
    "# lat, lon, max_wind, min_pres, dist2land are the interesting variables\n",
    "\n",
    "columns_we_want = ['storm_sn',\n",
    "                   'name',\n",
    "                   'source_time',\n",
    "                   'landfall',\n",
    "                   'genesis_basin',\n",
    "                   'season',\n",
    "                   'source_lat',\n",
    "                   'source_lon',\n",
    "                   'source_wind',\n",
    "                   'source_pres',\n",
    "                   'dist2land']\n",
    "\n",
    "ibt = ibt_all_fields[columns_we_want]\n",
    "\n",
    "del ibt_all_fields\n",
    "\n",
    "renamed_columns = ['storm_sn',\n",
    "                   'name',\n",
    "                   'time_recorded',\n",
    "                   'landfall',\n",
    "                   'genesis_basin',\n",
    "                   'season',\n",
    "                   'lat',\n",
    "                   'lon',\n",
    "                   'max_wind',\n",
    "                   'min_pres',\n",
    "                   'dist2land']\n",
    "\n",
    "columns = dict(zip(columns_we_want, renamed_columns))\n",
    "\n",
    "ibt2 = ibt.rename(index=str, columns = columns)\n",
    "\n",
    "del ibt\n",
    "\n",
    "toc = time.perf_counter()\n",
    "\n",
    "elapsed = toc - tic\n",
    "print(elapsed)\n",
    "#ibt"
   ]
  },
  {
   "cell_type": "code",
   "execution_count": null,
   "metadata": {},
   "outputs": [],
   "source": [
    "\"\"\" Import landmask.\"\"\"\n",
    "#Elapsed time ~10 seconds.\n",
    "tic = time.process_time()\n",
    "\n",
    "nc_landmask = 'ETOPO1_Ice_g_gmt4.nc' #Land mask from ETOPO1 Global Relief Model\n",
    "path_to_nc2 = os.path.join('..','deconstruct_cyn',nc_landmask)\n",
    "\n",
    "landmask_all_fields = xarray.open_dataset(path_to_nc2).to_dataframe()\n",
    "\n",
    "toc = time.process_time()\n",
    "\n",
    "elapsed = toc - tic\n",
    "print(elapsed)"
   ]
  },
  {
   "cell_type": "markdown",
   "metadata": {},
   "source": [
    "# Creating a Boolean Mask for the Phillipines"
   ]
  },
  {
   "cell_type": "markdown",
   "metadata": {},
   "source": [
    "Here we want to create a bounding box for the phillipines. Note that the box made by the previous project team had sloped sides, so this approach will work for an arbitrary quadrilateral."
   ]
  },
  {
   "cell_type": "code",
   "execution_count": null,
   "metadata": {},
   "outputs": [],
   "source": [
    "lm2 = landmask_all_fields.reset_index()"
   ]
  },
  {
   "cell_type": "code",
   "execution_count": null,
   "metadata": {},
   "outputs": [],
   "source": [
    "eps = 1e-3\n",
    "\n",
    "m1 = 1/5\n",
    "m2 = -130/53\n",
    "m3 = 27/56\n",
    "m4 = -73/26\n",
    "\n",
    "c1 = -5.38\n",
    "c2 = +320.65\n",
    "c3 = -55.61\n",
    "c4 = +347.72"
   ]
  },
  {
   "cell_type": "code",
   "execution_count": null,
   "metadata": {},
   "outputs": [],
   "source": [
    "lat_within_a = (18.1-eps <= lm2.lat) & (lm2.lat <= (19.2+eps))\n",
    "lat_within_a.value_counts()"
   ]
  },
  {
   "cell_type": "code",
   "execution_count": null,
   "metadata": {},
   "outputs": [],
   "source": [
    "lon_left_a = (lm2.lat - c1)/m1\n",
    "lon_right_a = (lm2.lat - c2)/m2\n",
    "lon_within_a = (lon_left_a <= lm2.lon) & (lm2.lon <= lon_right_a)\n",
    "lon_within_a.value_counts()"
   ]
  },
  {
   "cell_type": "code",
   "execution_count": null,
   "metadata": {},
   "outputs": [],
   "source": [
    "point_within_a = lat_within_a & lon_within_a\n",
    "point_within_a.value_counts()"
   ]
  },
  {
   "cell_type": "code",
   "execution_count": null,
   "metadata": {},
   "outputs": [],
   "source": [
    "lat_within_b = (6.2 <= lm2.lat) & (lm2.lat <= 18.1)\n",
    "lat_within_b.value_counts()"
   ]
  },
  {
   "cell_type": "code",
   "execution_count": null,
   "metadata": {},
   "outputs": [],
   "source": [
    "lon_left_b = (lm2.lat - c4)/m4\n",
    "lon_right_b = (lm2.lat - c2)/m2\n",
    "lon_within_b = (lon_left_b <= lm2.lon) & (lm2.lon <= lon_right_b)\n",
    "lon_within_b.value_counts()"
   ]
  },
  {
   "cell_type": "code",
   "execution_count": null,
   "metadata": {},
   "outputs": [],
   "source": [
    "point_within_b = lat_within_b & lon_within_b\n",
    "point_within_b.value_counts()"
   ]
  },
  {
   "cell_type": "code",
   "execution_count": null,
   "metadata": {},
   "outputs": [],
   "source": [
    "lat_within_gamma = (3.484 <= lm2.lat) & (lm2.lat <= 6.2) #originally 3.5 - 6.2\n",
    "lat_within_gamma.value_counts()"
   ]
  },
  {
   "cell_type": "code",
   "execution_count": null,
   "metadata": {},
   "outputs": [],
   "source": [
    "lon_left_gamma = (lm2.lat - c4)/m4\n",
    "lon_right_gamma = (lm2.lat - c3)/m3\n",
    "lon_within_gamma = (lon_left_gamma <= lm2.lon) & (lm2.lon <= lon_right_gamma)\n",
    "lon_within_gamma.value_counts()"
   ]
  },
  {
   "cell_type": "code",
   "execution_count": null,
   "metadata": {},
   "outputs": [],
   "source": [
    "point_within_gamma = lat_within_gamma & lon_within_gamma\n",
    "point_within_gamma.value_counts()\n",
    "\n"
   ]
  },
  {
   "cell_type": "code",
   "execution_count": null,
   "metadata": {},
   "outputs": [],
   "source": [
    "point_within_phillipines_box = (point_within_a | point_within_b | point_within_gamma)\n",
    "point_within_phillipines_box.value_counts()"
   ]
  },
  {
   "cell_type": "code",
   "execution_count": null,
   "metadata": {},
   "outputs": [],
   "source": [
    "lm2['phil_box'] = point_within_phillipines_box"
   ]
  },
  {
   "cell_type": "markdown",
   "metadata": {},
   "source": [
    "## Alternate History Branch"
   ]
  },
  {
   "cell_type": "markdown",
   "metadata": {},
   "source": [
    "Just skip this part and go directly to cyclone events to get testing2 back out. Here I am trying to merge all the etopo data into the ibtracs database before I filter based on phil_box.\n",
    "\n",
    "In the following section \"Selecting Correct Cyclone Events\", I try to filter etopo to only use altitudes within the phillipines bounding box, this leads to 14,999 cyclone measurements being selected within the box, for all non-null z (z can be negative).\n",
    "\n",
    "Hopefully, reordering the transformations of the data won't alter the final result."
   ]
  },
  {
   "cell_type": "code",
   "execution_count": null,
   "metadata": {},
   "outputs": [],
   "source": [
    "ibt2.head()"
   ]
  },
  {
   "cell_type": "code",
   "execution_count": null,
   "metadata": {},
   "outputs": [],
   "source": [
    "lm2.head()"
   ]
  },
  {
   "cell_type": "code",
   "execution_count": null,
   "metadata": {},
   "outputs": [],
   "source": [
    "N = 10000\n",
    "\n",
    "# ibt2['lat'] and ibt2['lon'] columns have a float datatype.\n",
    "# It is very difficult to run a pd.merge() on these columns.\n",
    "# The float has rounding errors, running np.allclose() won't\n",
    "# fix these,\n",
    "\n",
    "# To fix this, multiply by a big power of 10, convert to nullable integer type.\n",
    "# pd.merge() on integer indexed columns.\n",
    "# Then convert back to float.\n",
    "\n",
    "ibt2['lat'] = np.round(ibt2['lat']* N).astype(pd.Int64Dtype())\n",
    "ibt2['lon'] = np.round(ibt2['lon']* N).astype(pd.Int64Dtype())\n",
    "\n",
    "lm2['lat'] = np.round(lm2['lat'] * N).astype(pd.Int64Dtype())\n",
    "lm2['lon'] = np.round(lm2['lon']* N).astype(pd.Int64Dtype())\n",
    "\n",
    "flag_merge = pd.merge(ibt2, lm2, how = 'left', on = ['lat', 'lon'])\n",
    "\n",
    "ibt2['lat'] = ibt2['lat']/N;\n",
    "ibt2['lon'] = ibt2['lon']/N;\n",
    "\n",
    "lm2['lat'] = lm2['lat']/N;\n",
    "lm2['lon'] = lm2['lon']/N;"
   ]
  },
  {
   "cell_type": "code",
   "execution_count": null,
   "metadata": {},
   "outputs": [],
   "source": [
    "flag_merge.head()"
   ]
  },
  {
   "cell_type": "code",
   "execution_count": null,
   "metadata": {},
   "outputs": [],
   "source": [
    "flag_merge[flag_merge.phil_box == True]"
   ]
  },
  {
   "cell_type": "code",
   "execution_count": null,
   "metadata": {},
   "outputs": [],
   "source": [
    "flag_merge.loc[pd.unique(flag_merge['storm_sn']),:]"
   ]
  },
  {
   "cell_type": "code",
   "execution_count": null,
   "metadata": {},
   "outputs": [],
   "source": [
    "flag_merge['storm_sn'].unique"
   ]
  },
  {
   "cell_type": "markdown",
   "metadata": {},
   "source": [
    "# Selecting Correct Cyclone Events"
   ]
  },
  {
   "cell_type": "markdown",
   "metadata": {},
   "source": [
    "So we have cyclone centres with lat, lon values. We want to measure whether a cyclone has reached land. A simple approach would be to check when the eye of the storm comes into contact with land.\n",
    "\n",
    "Unfortunately, we can't look up the location of the eye in the etopo model, because our index is not continuous. Perhaps we need to interpolate?"
   ]
  },
  {
   "cell_type": "code",
   "execution_count": null,
   "metadata": {},
   "outputs": [],
   "source": [
    "phil = lm2[lm2.phil_box]"
   ]
  },
  {
   "cell_type": "code",
   "execution_count": null,
   "metadata": {},
   "outputs": [],
   "source": [
    "phil.head()"
   ]
  },
  {
   "cell_type": "code",
   "execution_count": null,
   "metadata": {},
   "outputs": [],
   "source": [
    "phil.describe()"
   ]
  },
  {
   "cell_type": "code",
   "execution_count": null,
   "metadata": {},
   "outputs": [],
   "source": [
    "ibt2[ibt2.season > 2016].dropna().head()"
   ]
  },
  {
   "cell_type": "code",
   "execution_count": null,
   "metadata": {},
   "outputs": [],
   "source": [
    "ibt3 = pd.merge(ibt2, phil[['lat','lon','z']], how = 'left', on=['lat','lon'])"
   ]
  },
  {
   "cell_type": "raw",
   "metadata": {},
   "source": []
  },
  {
   "cell_type": "code",
   "execution_count": null,
   "metadata": {},
   "outputs": [],
   "source": [
    "ibt3.describe()"
   ]
  },
  {
   "cell_type": "code",
   "execution_count": null,
   "metadata": {},
   "outputs": [],
   "source": [
    "ibt2.describe()"
   ]
  },
  {
   "cell_type": "code",
   "execution_count": null,
   "metadata": {},
   "outputs": [],
   "source": [
    "ibt4 = pd.merge(ibt2, phil[['lat','lon','z']], how = 'right', on=['lat','lon'])"
   ]
  },
  {
   "cell_type": "code",
   "execution_count": null,
   "metadata": {},
   "outputs": [],
   "source": [
    "ibt4.describe()"
   ]
  },
  {
   "cell_type": "code",
   "execution_count": null,
   "metadata": {},
   "outputs": [],
   "source": [
    "phil.z.shape"
   ]
  },
  {
   "cell_type": "code",
   "execution_count": null,
   "metadata": {},
   "outputs": [],
   "source": [
    "ibt5 = pd.merge(ibt2, phil[['lat','lon','z']], how = 'outer', on=['lat','lon'])"
   ]
  },
  {
   "cell_type": "code",
   "execution_count": null,
   "metadata": {},
   "outputs": [],
   "source": [
    "ibt5.describe()"
   ]
  },
  {
   "cell_type": "raw",
   "metadata": {},
   "source": [
    "N = 100\n",
    "#thank you koalo for comment\n",
    "A.col2 = np.round(A.col2*N).astype(int) \n",
    "B.col2 = np.round(B.col2*N).astype(int) \n",
    "df = pd.merge(A, B, how = 'outer', on = ['col1', 'col2'])\n",
    "df.col2 = df.col2 / N\n",
    "print (df)\n",
    " "
   ]
  },
  {
   "cell_type": "code",
   "execution_count": null,
   "metadata": {},
   "outputs": [],
   "source": [
    "ibhack = ibt2.copy()\n",
    "phack = phil[[\"lat\",\"lon\",\"z\"]].copy()"
   ]
  },
  {
   "cell_type": "code",
   "execution_count": null,
   "metadata": {},
   "outputs": [],
   "source": [
    "ibhack.describe()"
   ]
  },
  {
   "cell_type": "code",
   "execution_count": null,
   "metadata": {},
   "outputs": [],
   "source": [
    "N = 10000\n",
    "\n",
    "ibhack['lat'] = np.round(ibhack['lat']* N).astype(pd.Int64Dtype())\n",
    "ibhack['lon'] = np.round(ibhack['lon']* N).astype(pd.Int64Dtype())\n",
    "\n",
    "phack['lat'] = np.round(phack['lat'] * N).astype(pd.Int64Dtype())\n",
    "phack['lon'] = np.round(phack['lon']* N).astype(pd.Int64Dtype())\n",
    "\n",
    "goodmerge = pd.merge(ibhack, phack, how = 'left', on = ['lat', 'lon'])\n",
    "\n",
    "ibhack['lat'] = ibhack['lat']/N;\n",
    "ibhack['lon'] = ibhack['lon']/N;\n",
    "\n",
    "phack['lat'] = phack['lat']/N;\n",
    "phack['lon'] = phack['lon']/N;"
   ]
  },
  {
   "cell_type": "code",
   "execution_count": null,
   "metadata": {},
   "outputs": [],
   "source": [
    "#Use lm2 here tomorrow morning"
   ]
  },
  {
   "cell_type": "code",
   "execution_count": null,
   "metadata": {},
   "outputs": [],
   "source": []
  },
  {
   "cell_type": "code",
   "execution_count": null,
   "metadata": {},
   "outputs": [],
   "source": [
    "ibhack.describe()"
   ]
  },
  {
   "cell_type": "code",
   "execution_count": null,
   "metadata": {},
   "outputs": [],
   "source": [
    "del ibt5"
   ]
  },
  {
   "cell_type": "code",
   "execution_count": null,
   "metadata": {},
   "outputs": [],
   "source": [
    "del ibt4"
   ]
  },
  {
   "cell_type": "code",
   "execution_count": null,
   "metadata": {},
   "outputs": [],
   "source": [
    "phack.astype?"
   ]
  },
  {
   "cell_type": "code",
   "execution_count": null,
   "metadata": {},
   "outputs": [],
   "source": [
    "ibt2.describe()"
   ]
  },
  {
   "cell_type": "code",
   "execution_count": null,
   "metadata": {},
   "outputs": [],
   "source": [
    "goodmerge.describe()"
   ]
  },
  {
   "cell_type": "code",
   "execution_count": null,
   "metadata": {},
   "outputs": [],
   "source": [
    "testing = goodmerge[goodmerge.z.isnull()]"
   ]
  },
  {
   "cell_type": "code",
   "execution_count": null,
   "metadata": {},
   "outputs": [],
   "source": [
    "testing[testing[\"lat\"].notnull()]"
   ]
  },
  {
   "cell_type": "code",
   "execution_count": null,
   "metadata": {},
   "outputs": [],
   "source": [
    "goodmerge.lat.dropna()/N"
   ]
  },
  {
   "cell_type": "code",
   "execution_count": null,
   "metadata": {},
   "outputs": [],
   "source": [
    "testing2 = goodmerge[goodmerge.z.notnull()]"
   ]
  },
  {
   "cell_type": "code",
   "execution_count": null,
   "metadata": {},
   "outputs": [],
   "source": [
    "testing2[testing2.lat.notnull()]"
   ]
  },
  {
   "cell_type": "code",
   "execution_count": null,
   "metadata": {},
   "outputs": [],
   "source": [
    "testing2['lat'] = testing2['lat']/N\n",
    "testing2['lon'] = testing2['lon']/N"
   ]
  },
  {
   "cell_type": "code",
   "execution_count": null,
   "metadata": {},
   "outputs": [],
   "source": [
    "testing2.describe()"
   ]
  },
  {
   "cell_type": "code",
   "execution_count": null,
   "metadata": {},
   "outputs": [],
   "source": []
  }
 ],
 "metadata": {
  "kernelspec": {
   "display_name": "Python 3",
   "language": "python",
   "name": "python3"
  },
  "language_info": {
   "codemirror_mode": {
    "name": "ipython",
    "version": 3
   },
   "file_extension": ".py",
   "mimetype": "text/x-python",
   "name": "python",
   "nbconvert_exporter": "python",
   "pygments_lexer": "ipython3",
   "version": "3.6.6"
  }
 },
 "nbformat": 4,
 "nbformat_minor": 2
}
