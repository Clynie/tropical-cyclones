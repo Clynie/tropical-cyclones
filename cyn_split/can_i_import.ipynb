{
 "cells": [
  {
   "cell_type": "code",
   "execution_count": null,
   "metadata": {},
   "outputs": [],
   "source": [
    "\"\"\"Using 'all' file instead of 'wmo' file\"\"\"\n",
    "import numpy as np \n",
    "import pandas as pd\n",
    "import pickle as pkl\n",
    "from netCDF4 import Dataset,num2date\n",
    "import matplotlib.pyplot as plt\n",
    "from scipy.optimize import curve_fit\n",
    "from scipy.stats import norm, poisson, lognorm, chisquare, linregress, ttest_ind, power_divergence, ks_2samp, chi2_contingency\n",
    "from scipy.interpolate import interp1d\n",
    "from scipy.special import factorial\n",
    "from matplotlib import cm\n",
    "from mpl_toolkits.mplot3d import Axes3D\n",
    "#%matplotlib tk    #Uncomment for interactive figures\n",
    "import geopy.distance as gd\n",
    "from sklearn.metrics import mean_squared_error\n",
    "import time\n",
    "import os"
   ]
  },
  {
   "cell_type": "code",
   "execution_count": null,
   "metadata": {},
   "outputs": [],
   "source": [
    "tic = time.perf_counter()\n",
    "path_to_data = os.path.join('data')\n",
    "\n",
    "ibtracs_and_landmask = dict() \n",
    "#loaded variables from cell 2 of Year3Projectfinal.ipynb which are used later in code\n",
    "\n",
    "for filename in os.listdir(path_to_data):\n",
    "    if filename.endswith('.pickle'):\n",
    "        path_to_file = os.path.join(path_to_data, filename)\n",
    "        with open(path_to_file,'rb') as f:\n",
    "            ibtracs_and_landmask[filename[:-7]] = pkl.load(f) # d[key] = value, where key is filename str w/o '.pickle'\n",
    "            #expected usage example: ibtracs_and_landmask['lat']\n",
    "toc = time.perf_counter()\n",
    "print(toc-tic)"
   ]
  },
  {
   "cell_type": "code",
   "execution_count": null,
   "metadata": {},
   "outputs": [],
   "source": [
    "[fname[:-7] for fname in os.listdir(os.path.join('data'))]"
   ]
  },
  {
   "cell_type": "code",
   "execution_count": null,
   "metadata": {},
   "outputs": [],
   "source": [
    "for key, value in ibtracs_and_landmask.items():\n",
    "    try:\n",
    "        bigness = value.shape\n",
    "    except(AttributeError):\n",
    "        bigness = len(value)\n",
    "    print(key, type(value), bigness) "
   ]
  },
  {
   "cell_type": "raw",
   "metadata": {},
   "source": [
    "DIST2LAND <class 'numpy.ndarray'> (12861, 191)\n",
    "landmask_lat <class 'numpy.ma.core.MaskedArray'> (21601, 10801)\n",
    "landmask_lon <class 'numpy.ma.core.MaskedArray'> (21601, 10801)\n",
    "LAT <class 'numpy.ndarray'> (12861, 191, 4)\n",
    "LON <class 'numpy.ndarray'> (12861, 191, 4)\n",
    "MAX_WIND <class 'numpy.ndarray'> (12861, 191, 4)\n",
    "MIN_PRES <class 'numpy.ndarray'> (12861, 191, 4)\n",
    "season <class 'numpy.ma.core.MaskedArray'> (12861,)\n",
    "TCinseason <class 'list'> 309\n",
    "time_record <class 'numpy.ma.core.MaskedArray'> (12861, 191)\n",
    "z <class 'numpy.ma.core.MaskedArray'> (10801, 21601)\n"
   ]
  },
  {
   "cell_type": "code",
   "execution_count": null,
   "metadata": {},
   "outputs": [],
   "source": []
  },
  {
   "cell_type": "code",
   "execution_count": null,
   "metadata": {},
   "outputs": [],
   "source": []
  },
  {
   "cell_type": "code",
   "execution_count": null,
   "metadata": {},
   "outputs": [],
   "source": []
  },
  {
   "cell_type": "code",
   "execution_count": null,
   "metadata": {},
   "outputs": [],
   "source": []
  },
  {
   "cell_type": "code",
   "execution_count": null,
   "metadata": {},
   "outputs": [],
   "source": []
  }
 ],
 "metadata": {
  "kernelspec": {
   "display_name": "Python 3",
   "language": "python",
   "name": "python3"
  },
  "language_info": {
   "codemirror_mode": {
    "name": "ipython",
    "version": 3
   },
   "file_extension": ".py",
   "mimetype": "text/x-python",
   "name": "python",
   "nbconvert_exporter": "python",
   "pygments_lexer": "ipython3",
   "version": "3.6.6"
  }
 },
 "nbformat": 4,
 "nbformat_minor": 2
}
