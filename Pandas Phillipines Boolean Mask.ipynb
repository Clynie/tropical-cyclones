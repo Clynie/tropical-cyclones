{
 "cells": [
  {
   "cell_type": "code",
   "execution_count": null,
   "metadata": {},
   "outputs": [],
   "source": [
    "import numpy as np\n",
    "import os\n",
    "import pandas as pd\n",
    "import matplotlib as mpl\n",
    "from matplotlib import pyplot as plt\n",
    "import seaborn as sns\n",
    "sns.set()\n",
    "\n",
    "import netCDF4\n",
    "import time\n",
    "import xarray"
   ]
  },
  {
   "cell_type": "code",
   "execution_count": null,
   "metadata": {},
   "outputs": [],
   "source": [
    "\"\"\" Read .nc file into pandas dataframe.\"\"\"\n",
    "#Runtime around 677 seconds using perf_counter.\n",
    "\n",
    "tic = time.perf_counter()\n",
    "\n",
    "nc_ibtracs = 'Allstorms.ibtracs_all.v03r10.nc'\n",
    "path_to_nc = os.path.join('..','deconstruct_cyn',nc_ibtracs)\n",
    "\n",
    "ibt_all_fields = xarray.open_dataset(path_to_nc).to_dataframe()\n",
    "# name, storm_sn, time_record, landfall, \n",
    "# genesis_basin, season, \n",
    "# lat, lon, max_wind, min_pres, dist2land are the interesting variables\n",
    "\n",
    "columns_we_want = ['storm_sn',\n",
    "                   'name',\n",
    "                   'source_time',\n",
    "                   'landfall',\n",
    "                   'genesis_basin',\n",
    "                   'season',\n",
    "                   'source_lat',\n",
    "                   'source_lon',\n",
    "                   'source_wind',\n",
    "                   'source_pres',\n",
    "                   'dist2land']\n",
    "\n",
    "ibt = ibt_all_fields[columns_we_want]\n",
    "\n",
    "del ibt_all_fields\n",
    "\n",
    "renamed_columns = ['storm_sn',\n",
    "                   'name',\n",
    "                   'time_recorded',\n",
    "                   'landfall',\n",
    "                   'genesis_basin',\n",
    "                   'season',\n",
    "                   'lat',\n",
    "                   'lon',\n",
    "                   'max_wind',\n",
    "                   'min_pres',\n",
    "                   'dist2land']\n",
    "\n",
    "columns = dict(zip(columns_we_want, renamed_columns))\n",
    "\n",
    "ibt2 = ibt.rename(index=str, columns = columns)\n",
    "\n",
    "del ibt\n",
    "\n",
    "toc = time.perf_counter()\n",
    "\n",
    "elapsed = toc - tic\n",
    "print(elapsed)\n",
    "#ibt"
   ]
  },
  {
   "cell_type": "code",
   "execution_count": null,
   "metadata": {},
   "outputs": [],
   "source": [
    "\"\"\" Import landmask.\"\"\"\n",
    "#Elapsed time ~10 seconds.\n",
    "tic = time.process_time()\n",
    "\n",
    "nc_landmask = 'ETOPO1_Ice_g_gmt4.nc' #Land mask from ETOPO1 Global Relief Model\n",
    "path_to_nc2 = os.path.join('..','deconstruct_cyn',nc_landmask)\n",
    "\n",
    "landmask_all_fields = xarray.open_dataset(path_to_nc2).to_dataframe()\n",
    "\n",
    "toc = time.process_time()\n",
    "\n",
    "elapsed = toc - tic\n",
    "print(elapsed)"
   ]
  },
  {
   "cell_type": "markdown",
   "metadata": {},
   "source": [
    "# Creating a Boolean Mask for the Phillipines"
   ]
  },
  {
   "cell_type": "markdown",
   "metadata": {},
   "source": [
    "Here we want to create a bounding box for the phillipines. Note that the box made by the previous project team had sloped sides, so this approach will work for an arbitrary quadrilateral."
   ]
  },
  {
   "cell_type": "code",
   "execution_count": null,
   "metadata": {},
   "outputs": [],
   "source": [
    "lm2 = landmask_all_fields.reset_index()"
   ]
  },
  {
   "cell_type": "code",
   "execution_count": null,
   "metadata": {},
   "outputs": [],
   "source": [
    "eps = 1e-3\n",
    "\n",
    "m1 = 1/5\n",
    "m2 = -130/53\n",
    "m3 = 27/56\n",
    "m4 = -73/26\n",
    "\n",
    "c1 = -5.38\n",
    "c2 = +320.65\n",
    "c3 = -55.61\n",
    "c4 = +347.72"
   ]
  },
  {
   "cell_type": "code",
   "execution_count": null,
   "metadata": {},
   "outputs": [],
   "source": [
    "lat_within_a = (18.1-eps <= lm2.lat) & (lm2.lat <= (19.2+eps))\n",
    "lat_within_a.value_counts()"
   ]
  },
  {
   "cell_type": "code",
   "execution_count": null,
   "metadata": {},
   "outputs": [],
   "source": [
    "lon_left_a = (lm2.lat - c1)/m1\n",
    "lon_right_a = (lm2.lat - c2)/m2\n",
    "lon_within_a = (lon_left_a <= lm2.lon) & (lm2.lon <= lon_right_a)\n",
    "lon_within_a.value_counts()"
   ]
  },
  {
   "cell_type": "code",
   "execution_count": null,
   "metadata": {},
   "outputs": [],
   "source": [
    "point_within_a = lat_within_a & lon_within_a\n",
    "point_within_a.value_counts()"
   ]
  },
  {
   "cell_type": "code",
   "execution_count": null,
   "metadata": {},
   "outputs": [],
   "source": [
    "lat_within_b = (6.2 <= lm2.lat) & (lm2.lat <= 18.1)\n",
    "lat_within_b.value_counts()"
   ]
  },
  {
   "cell_type": "code",
   "execution_count": null,
   "metadata": {},
   "outputs": [],
   "source": [
    "lon_left_b = (lm2.lat - c4)/m4\n",
    "lon_right_b = (lm2.lat - c2)/m2\n",
    "lon_within_b = (lon_left_b <= lm2.lon) & (lm2.lon <= lon_right_b)\n",
    "lon_within_b.value_counts()"
   ]
  },
  {
   "cell_type": "code",
   "execution_count": null,
   "metadata": {},
   "outputs": [],
   "source": [
    "point_within_b = lat_within_b & lon_within_b\n",
    "point_within_b.value_counts()"
   ]
  },
  {
   "cell_type": "code",
   "execution_count": null,
   "metadata": {},
   "outputs": [],
   "source": [
    "lat_within_gamma = (3.484 <= lm2.lat) & (lm2.lat <= 6.2) #originally 3.5 - 6.2\n",
    "lat_within_gamma.value_counts()"
   ]
  },
  {
   "cell_type": "code",
   "execution_count": null,
   "metadata": {},
   "outputs": [],
   "source": [
    "lon_left_gamma = (lm2.lat - c4)/m4\n",
    "lon_right_gamma = (lm2.lat - c3)/m3\n",
    "lon_within_gamma = (lon_left_gamma <= lm2.lon) & (lm2.lon <= lon_right_gamma)\n",
    "lon_within_gamma.value_counts()"
   ]
  },
  {
   "cell_type": "code",
   "execution_count": null,
   "metadata": {},
   "outputs": [],
   "source": [
    "point_within_gamma = lat_within_gamma & lon_within_gamma\n",
    "point_within_gamma.value_counts()\n",
    "\n"
   ]
  },
  {
   "cell_type": "code",
   "execution_count": null,
   "metadata": {},
   "outputs": [],
   "source": [
    "point_within_phillipines_box = (point_within_a | point_within_b | point_within_gamma)\n",
    "point_within_phillipines_box.value_counts()"
   ]
  },
  {
   "cell_type": "code",
   "execution_count": null,
   "metadata": {},
   "outputs": [],
   "source": [
    "lm2['phil_box'] = point_within_phillipines_box"
   ]
  },
  {
   "cell_type": "code",
   "execution_count": null,
   "metadata": {},
   "outputs": [],
   "source": [
    "phil = lm2[lm2.phil_box]"
   ]
  },
  {
   "cell_type": "code",
   "execution_count": null,
   "metadata": {},
   "outputs": [],
   "source": [
    "phindex = phil.set_index(['lon','lat'])"
   ]
  },
  {
   "cell_type": "code",
   "execution_count": null,
   "metadata": {},
   "outputs": [],
   "source": [
    "ztable = phindex.z.unstack(level=0) #122.600000 3.516667  122.60000000000001"
   ]
  },
  {
   "cell_type": "code",
   "execution_count": null,
   "metadata": {},
   "outputs": [],
   "source": [
    "lat = ztable.index"
   ]
  },
  {
   "cell_type": "code",
   "execution_count": null,
   "metadata": {},
   "outputs": [],
   "source": [
    "z2tab = phil.pivot('lat', 'lon')['z']"
   ]
  },
  {
   "cell_type": "code",
   "execution_count": null,
   "metadata": {},
   "outputs": [],
   "source": [
    "lonmesh, latmesh = np.meshgrid(lon, lat)"
   ]
  },
  {
   "cell_type": "code",
   "execution_count": null,
   "metadata": {},
   "outputs": [],
   "source": [
    "%matplotlib notebook"
   ]
  },
  {
   "cell_type": "code",
   "execution_count": null,
   "metadata": {},
   "outputs": [],
   "source": [
    "plt.contourf(lonmesh, latmesh, ztable)"
   ]
  },
  {
   "cell_type": "code",
   "execution_count": null,
   "metadata": {},
   "outputs": [],
   "source": [
    "plt.colorbar()"
   ]
  },
  {
   "cell_type": "code",
   "execution_count": null,
   "metadata": {},
   "outputs": [],
   "source": [
    "plt.title('Altitude above sea level for selected region - Phillipines')"
   ]
  },
  {
   "cell_type": "code",
   "execution_count": null,
   "metadata": {},
   "outputs": [],
   "source": [
    "#plt.savefig('phil_altitude.png')"
   ]
  }
 ],
 "metadata": {
  "kernelspec": {
   "display_name": "Python 3",
   "language": "python",
   "name": "python3"
  },
  "language_info": {
   "codemirror_mode": {
    "name": "ipython",
    "version": 3
   },
   "file_extension": ".py",
   "mimetype": "text/x-python",
   "name": "python",
   "nbconvert_exporter": "python",
   "pygments_lexer": "ipython3",
   "version": "3.6.6"
  }
 },
 "nbformat": 4,
 "nbformat_minor": 2
}
