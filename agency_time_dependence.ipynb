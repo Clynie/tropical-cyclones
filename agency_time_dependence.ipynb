{
 "cells": [
  {
   "cell_type": "code",
   "execution_count": null,
   "metadata": {},
   "outputs": [],
   "source": [
    "import datetime\n",
    "import numpy as np\n",
    "import pandas as pd\n",
    "from matplotlib import pyplot as plt\n",
    "import scipy.stats\n",
    "from scipy.optimize import minimize\n",
    "from scipy.special import factorial\n",
    "import seaborn as sns\n",
    "sns.set()\n",
    "\n",
    "import netCDF4\n",
    "import os\n",
    "import time\n",
    "import xarray"
   ]
  },
  {
   "cell_type": "code",
   "execution_count": null,
   "metadata": {},
   "outputs": [],
   "source": [
    "phil_cyclones = pd.read_pickle(os.path.join('..','deconstruct_cyn','phil_cyclones.pkl'))"
   ]
  },
  {
   "cell_type": "code",
   "execution_count": null,
   "metadata": {},
   "outputs": [],
   "source": [
    "environmental_pressure = 1009.0\n",
    "phil_cyclones['pressure_deficit'] = environmental_pressure - phil_cyclones['min_pres'] "
   ]
  },
  {
   "cell_type": "markdown",
   "metadata": {},
   "source": [
    "# Agency Time Dependence\n",
    "\n",
    "Input:\n",
    "\n",
    "phil_cyclones - a list of all the cyclones from ibtracs with etopo height data within phillipines bounding box.\n",
    "\n",
    "Output:\n",
    "\n",
    "The difference of two agencies as a function of time."
   ]
  },
  {
   "cell_type": "markdown",
   "metadata": {},
   "source": [
    "### Choose an agency and distribution type"
   ]
  },
  {
   "cell_type": "code",
   "execution_count": null,
   "metadata": {},
   "outputs": [],
   "source": [
    "ag_choice = 'HKO' #['JTWC','CMA','HKO','WMO']\n",
    "ag_choice2 = 'WMO'\n",
    "v_or_p = 'min_pres' #max_wind or min_pres"
   ]
  },
  {
   "cell_type": "code",
   "execution_count": null,
   "metadata": {},
   "outputs": [],
   "source": [
    "#Extra variables for labelling figures when plotting.\n",
    "agency = {\n",
    "    'JTWC': '10',\n",
    "    'CMA' : '14',\n",
    "    'WMO' : '19',\n",
    "    'HKO' : '21'\n",
    "}\n",
    "\n",
    "if v_or_p == 'max_wind':\n",
    "    unit = 'kt'\n",
    "    long_name = 'Maximum Sustained Wind'\n",
    "elif v_or_p == 'min_pres':\n",
    "    unit = 'mb'\n",
    "    long_name = 'Minimum Central Pressure'\n",
    "else:\n",
    "    raise(KeyError, \"{} is neither 'max_wind' nor 'min_pres'\".format(v_or_p))"
   ]
  },
  {
   "cell_type": "markdown",
   "metadata": {},
   "source": [
    "---------------------------"
   ]
  },
  {
   "cell_type": "markdown",
   "metadata": {},
   "source": [
    "Some of the agencies have missing values for the maximum wind and minimum pressure.\n",
    "\n",
    "#### Are any of the values null?\n",
    "\n",
    "| Agency | Max Wind | Min Pressure | \n",
    "|--------|----------|--------------|\n",
    "| JTWC   | Yes      | Yes          |\n",
    "| CMA    | Yes      | No           |\n",
    "| WMO    | Yes      | No           |\n",
    "| HKO    | No       | No           |"
   ]
  },
  {
   "cell_type": "markdown",
   "metadata": {},
   "source": [
    "-----------------------------------"
   ]
  },
  {
   "cell_type": "code",
   "execution_count": null,
   "metadata": {},
   "outputs": [],
   "source": [
    "phil7withoutna = phil_cyclones[phil_cyclones[v_or_p].notnull()]"
   ]
  },
  {
   "cell_type": "code",
   "execution_count": null,
   "metadata": {},
   "outputs": [],
   "source": [
    "phil7withoutna"
   ]
  },
  {
   "cell_type": "code",
   "execution_count": null,
   "metadata": {},
   "outputs": [],
   "source": [
    "intensity7 = phil7withoutna.groupby(['storm_sn', 'center'])['max_wind','min_pres'].max().unstack()\n",
    "intensity7"
   ]
  },
  {
   "cell_type": "code",
   "execution_count": null,
   "metadata": {},
   "outputs": [],
   "source": [
    "agency_diff = intensity7[v_or_p,agency[ag_choice]] - intensity7[v_or_p, agency[ag_choice2]]\n",
    "agency_diff_without_na = agency_diff.dropna()\n",
    "agency_diff_without_na\n",
    "\n",
    "newframe = pd.DataFrame(agency_diff_without_na,columns = ['{} {} - {} {}'.format(v_or_p, ag_choice, v_or_p, ag_choice2),])"
   ]
  },
  {
   "cell_type": "code",
   "execution_count": null,
   "metadata": {},
   "outputs": [],
   "source": [
    "newframe2 = newframe.reset_index()"
   ]
  },
  {
   "cell_type": "code",
   "execution_count": null,
   "metadata": {},
   "outputs": [],
   "source": [
    "newframe2['first_measurement'] = newframe2['storm_sn'].str.slice(start=0, stop=7)"
   ]
  },
  {
   "cell_type": "code",
   "execution_count": null,
   "metadata": {},
   "outputs": [],
   "source": [
    "first_half = newframe2['storm_sn'].str.slice(start=0,stop=7)\n",
    "\n",
    "\n",
    "\n",
    "newframe2['first_measurement'] = first_half.apply(\n",
    "    lambda x: datetime.datetime(int(x[:4]), 1, 1) + datetime.timedelta(int(x[4:7]) - 1)\n",
    ")"
   ]
  },
  {
   "cell_type": "code",
   "execution_count": null,
   "metadata": {},
   "outputs": [],
   "source": [
    "newframe2"
   ]
  },
  {
   "cell_type": "markdown",
   "metadata": {},
   "source": [
    "--------------"
   ]
  },
  {
   "cell_type": "code",
   "execution_count": null,
   "metadata": {},
   "outputs": [],
   "source": [
    "#TODO\n",
    "#plt.scatter(newframe2['first_measurement'], newframe2['{} {} - {} {}'.format(v_or_p, ag_choice, v_or_p, ag_choice2)].apply(abs))\n",
    "plt.scatter(newframe2['first_measurement'], newframe2['{} {} - {} {}'.format(v_or_p, ag_choice, v_or_p, ag_choice2)])\n",
    "plt.xlabel('Year of first measurement for given cyclone')\n",
    "plt.ylabel('{} {} - {} {}'.format(v_or_p, ag_choice, v_or_p, ag_choice2))\n",
    "plt.savefig(os.path.join('figures','{} {} - {} {} Non-abs'.format(v_or_p, ag_choice, v_or_p, ag_choice2)))"
   ]
  },
  {
   "cell_type": "code",
   "execution_count": null,
   "metadata": {},
   "outputs": [],
   "source": [
    "tens = newframe2['first_measurement'] > datetime.datetime(2010,1,1)\n",
    "diffstring = '{} {} - {} {}'.format(v_or_p, ag_choice, v_or_p, ag_choice2)"
   ]
  },
  {
   "cell_type": "code",
   "execution_count": null,
   "metadata": {},
   "outputs": [],
   "source": [
    "plt.scatter(newframe2.first_measurement[tens], newframe2[diffstring][tens])"
   ]
  },
  {
   "cell_type": "code",
   "execution_count": null,
   "metadata": {},
   "outputs": [],
   "source": [
    "eighties = ((newframe2['first_measurement'] > datetime.datetime(1980,1,1)) & (newframe2['first_measurement'] < datetime.datetime(1990,1,1)))"
   ]
  },
  {
   "cell_type": "code",
   "execution_count": null,
   "metadata": {},
   "outputs": [],
   "source": [
    "plt.scatter(newframe2.first_measurement[eighties], newframe2[diffstring][eighties])"
   ]
  },
  {
   "cell_type": "markdown",
   "metadata": {},
   "source": [
    "------------"
   ]
  },
  {
   "cell_type": "raw",
   "metadata": {},
   "source": [
    "probdist7 = intensity7[v_or_p][agency[ag_choice]].value_counts().sort_index()\n",
    "probdist7"
   ]
  },
  {
   "cell_type": "raw",
   "metadata": {},
   "source": [
    "plt.scatter(probdist7.index, probdist7.values)\n",
    "plt.xlabel('{} of cyclone along track within phillipines box ({})'.format(v_or_p, unit))\n",
    "plt.ylabel('Number of cyclones in sample')\n",
    "plt.title('{} {}'.format(ag_choice, v_or_p))\n",
    "\n",
    "figpath = os.path.join('figures','{} {}.png'.format(ag_choice, v_or_p))\n",
    "plt.savefig(figpath)"
   ]
  },
  {
   "cell_type": "code",
   "execution_count": null,
   "metadata": {},
   "outputs": [],
   "source": [
    "#sns.pairplot(intensity7[v_or_p][['10','14','19','21']]).savefig(os.path.join('figures','{} pairplot.png'.format(v_or_p)))"
   ]
  }
 ],
 "metadata": {
  "kernelspec": {
   "display_name": "Python 3",
   "language": "python",
   "name": "python3"
  },
  "language_info": {
   "codemirror_mode": {
    "name": "ipython",
    "version": 3
   },
   "file_extension": ".py",
   "mimetype": "text/x-python",
   "name": "python",
   "nbconvert_exporter": "python",
   "pygments_lexer": "ipython3",
   "version": "3.6.6"
  }
 },
 "nbformat": 4,
 "nbformat_minor": 2
}
