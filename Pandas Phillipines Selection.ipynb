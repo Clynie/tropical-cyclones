{
 "cells": [
  {
   "cell_type": "code",
   "execution_count": null,
   "metadata": {},
   "outputs": [],
   "source": [
    "import numpy as np\n",
    "import os\n",
    "import pandas as pd\n",
    "import matplotlib as mpl\n",
    "from matplotlib import pyplot as plt\n",
    "import seaborn as sns\n",
    "sns.set()\n",
    "\n",
    "import netCDF4\n",
    "import time\n",
    "import xarray"
   ]
  },
  {
   "cell_type": "code",
   "execution_count": null,
   "metadata": {},
   "outputs": [],
   "source": [
    "\"\"\" Read .nc file into pandas dataframe.\"\"\"\n",
    "#Runtime around 452 seconds using perf_counter.\n",
    "\n",
    "tic = time.perf_counter()\n",
    "\n",
    "nc_ibtracs = 'Allstorms.ibtracs_all.v03r10.nc'\n",
    "path_to_nc = os.path.join('..','deconstruct_cyn',nc_ibtracs)\n",
    "\n",
    "ibt_all_fields = xarray.open_dataset(path_to_nc).to_dataframe()\n",
    "# name, storm_sn, time_record, landfall, \n",
    "# genesis_basin, season, \n",
    "# lat, lon, max_wind, min_pres, dist2land are the interesting variables\n",
    "\n",
    "columns_we_want = ['storm_sn',\n",
    "                   'name',\n",
    "                   'source_time',\n",
    "                   'landfall',\n",
    "                   'genesis_basin',\n",
    "                   'season',\n",
    "                   'source_lat',\n",
    "                   'source_lon',\n",
    "                   'source_wind',\n",
    "                   'source_pres',\n",
    "                   'dist2land']\n",
    "\n",
    "ibt = ibt_all_fields[columns_we_want]\n",
    "\n",
    "del ibt_all_fields\n",
    "\n",
    "renamed_columns = ['storm_sn',\n",
    "                   'name',\n",
    "                   'time_recorded',\n",
    "                   'landfall',\n",
    "                   'genesis_basin',\n",
    "                   'season',\n",
    "                   'lat',\n",
    "                   'lon',\n",
    "                   'max_wind',\n",
    "                   'min_pres',\n",
    "                   'dist2land']\n",
    "\n",
    "columns = dict(zip(columns_we_want, renamed_columns))\n",
    "\n",
    "ibt2 = ibt.rename(index=str, columns = columns)\n",
    "\n",
    "del ibt\n",
    "\n",
    "toc = time.perf_counter()\n",
    "\n",
    "elapsed = toc - tic\n",
    "print(elapsed)\n",
    "#ibt"
   ]
  },
  {
   "cell_type": "code",
   "execution_count": null,
   "metadata": {},
   "outputs": [],
   "source": [
    "\"\"\" Import landmask.\"\"\"\n",
    "#Elapsed time ~10 seconds.\n",
    "tic = time.process_time()\n",
    "\n",
    "nc_landmask = 'ETOPO1_Ice_g_gmt4.nc' #Land mask from ETOPO1 Global Relief Model\n",
    "path_to_nc2 = os.path.join('..','deconstruct_cyn',nc_landmask)\n",
    "\n",
    "landmask_all_fields = xarray.open_dataset(path_to_nc2).to_dataframe()\n",
    "\n",
    "toc = time.process_time()\n",
    "\n",
    "elapsed = toc - tic\n",
    "print(elapsed)"
   ]
  },
  {
   "cell_type": "markdown",
   "metadata": {},
   "source": [
    "# Creating a Boolean Mask for the Phillipines"
   ]
  },
  {
   "cell_type": "markdown",
   "metadata": {},
   "source": [
    "Here we want to create a bounding box for the phillipines. \n",
    "\n",
    "Following the coordinates of the previous groups box, so we can replicate their results.\n",
    "\n",
    "(117.4E, 18.1N),\n",
    "(122.9E,19.2N),\n",
    "(128.2E, 6.2N),\n",
    "(122.6E, 3.5N).\n",
    "\n",
    "Note that the box made by the previous project team had sloped sides, so this approach will work for an arbitrary quadrilateral.\n",
    "\n",
    "#### Algorithm\n",
    "\n",
    "Split the quadrilateral into three parts, a(lpha), b(eta), gamma. \n",
    "The quadrilateral has four corners.\n",
    "\n",
    "Alpha:\n",
    "Select points with lattitudes between the highest lattitude corner to second highest lattitude corner.\n",
    "Select points with longitudes as a function of lattitude between these two points in the quadrilateral.\n",
    "\n",
    "Beta:\n",
    "Select points with lattitudes between the 2nd highest lattitude corner to 3rd highest lattitude corner.\n",
    "Select points with longitudes as a function of lattitude between these two points in the quadrilateral.\n",
    "\n",
    "Gamma:\n",
    "Select points with lattitudes between the 3rd highest lattitude corner to lowest lattitude corner.\n",
    "Select points with longitudes as a function of lattitude between these two points in the quadrilateral.\n",
    "\n",
    "Take the union of the three sets to get set of points in box."
   ]
  },
  {
   "cell_type": "code",
   "execution_count": null,
   "metadata": {},
   "outputs": [],
   "source": [
    "lm2 = landmask_all_fields.reset_index()"
   ]
  },
  {
   "cell_type": "code",
   "execution_count": null,
   "metadata": {},
   "outputs": [],
   "source": [
    "m1 = 1/5     # top line gradient. \n",
    "m2 = -130/53 # right line gradient.\n",
    "m3 = 27/56   # bottom line gradient.\n",
    "m4 = -73/26  # left line gradient.\n",
    "\n",
    "c1 = -5.38   # top line \"y-intercept\"\n",
    "c2 = +320.65 # etc.\n",
    "c3 = -55.61\n",
    "c4 = +347.72"
   ]
  },
  {
   "cell_type": "code",
   "execution_count": null,
   "metadata": {},
   "outputs": [],
   "source": [
    "lat_within_a = (18.1 <= lm2.lat) & (lm2.lat <= 19.2)\n",
    "lat_within_a.value_counts()"
   ]
  },
  {
   "cell_type": "code",
   "execution_count": null,
   "metadata": {},
   "outputs": [],
   "source": [
    "lon_left_a = (lm2.lat - c1)/m1\n",
    "lon_right_a = (lm2.lat - c2)/m2\n",
    "lon_within_a = (lon_left_a <= lm2.lon) & (lm2.lon <= lon_right_a)\n",
    "lon_within_a.value_counts()"
   ]
  },
  {
   "cell_type": "code",
   "execution_count": null,
   "metadata": {},
   "outputs": [],
   "source": [
    "point_within_a = lat_within_a & lon_within_a\n",
    "point_within_a.value_counts()"
   ]
  },
  {
   "cell_type": "code",
   "execution_count": null,
   "metadata": {},
   "outputs": [],
   "source": [
    "lat_within_b = (6.2 <= lm2.lat) & (lm2.lat <= 18.1)\n",
    "lat_within_b.value_counts()"
   ]
  },
  {
   "cell_type": "code",
   "execution_count": null,
   "metadata": {},
   "outputs": [],
   "source": [
    "lon_left_b = (lm2.lat - c4)/m4\n",
    "lon_right_b = (lm2.lat - c2)/m2\n",
    "lon_within_b = (lon_left_b <= lm2.lon) & (lm2.lon <= lon_right_b)\n",
    "lon_within_b.value_counts()"
   ]
  },
  {
   "cell_type": "code",
   "execution_count": null,
   "metadata": {},
   "outputs": [],
   "source": [
    "point_within_b = lat_within_b & lon_within_b\n",
    "point_within_b.value_counts()"
   ]
  },
  {
   "cell_type": "code",
   "execution_count": null,
   "metadata": {},
   "outputs": [],
   "source": [
    "lat_within_gamma = (3.5 <= lm2.lat) & (lm2.lat <= 6.2)\n",
    "lat_within_gamma.value_counts()"
   ]
  },
  {
   "cell_type": "code",
   "execution_count": null,
   "metadata": {},
   "outputs": [],
   "source": [
    "lon_left_gamma = (lm2.lat - c4)/m4\n",
    "lon_right_gamma = (lm2.lat - c3)/m3\n",
    "lon_within_gamma = (lon_left_gamma <= lm2.lon) & (lm2.lon <= lon_right_gamma)\n",
    "lon_within_gamma.value_counts()"
   ]
  },
  {
   "cell_type": "code",
   "execution_count": null,
   "metadata": {},
   "outputs": [],
   "source": [
    "point_within_gamma = lat_within_gamma & lon_within_gamma\n",
    "point_within_gamma.value_counts()\n",
    "\n"
   ]
  },
  {
   "cell_type": "code",
   "execution_count": null,
   "metadata": {},
   "outputs": [],
   "source": [
    "point_within_phillipines_box = (point_within_a | point_within_b | point_within_gamma)\n",
    "point_within_phillipines_box.value_counts()"
   ]
  },
  {
   "cell_type": "code",
   "execution_count": null,
   "metadata": {},
   "outputs": [],
   "source": [
    "lm2['phil_box'] = point_within_phillipines_box"
   ]
  },
  {
   "cell_type": "markdown",
   "metadata": {},
   "source": [
    "# Selecting Correct Cyclone Events"
   ]
  },
  {
   "cell_type": "markdown",
   "metadata": {},
   "source": [
    "So we have cyclone centres with lat, lon values. We want to measure whether a cyclone has reached land. A simple approach would be to check when the eye of the storm comes into contact with land.\n",
    "\n",
    "Here I am trying to merge all the etopo data into the ibtracs database before I filter cyclone measurements within the phillipines bounding box. This leads to 14,999 cyclone measurements being selected within the box, for all non-null z (z can be negative)."
   ]
  },
  {
   "cell_type": "code",
   "execution_count": null,
   "metadata": {},
   "outputs": [],
   "source": [
    "ibt2.head()"
   ]
  },
  {
   "cell_type": "code",
   "execution_count": null,
   "metadata": {},
   "outputs": [],
   "source": [
    "lm2.head()"
   ]
  },
  {
   "cell_type": "code",
   "execution_count": null,
   "metadata": {},
   "outputs": [],
   "source": [
    "ibt2.reset_index(inplace = True) # I want centre, storm and time in my final .pkl file of cyclones in phillipines box.\n",
    "ibt2.head()"
   ]
  },
  {
   "cell_type": "code",
   "execution_count": null,
   "metadata": {},
   "outputs": [],
   "source": [
    "N = 10000\n",
    "\n",
    "# ibt2['lat'] and ibt2['lon'] columns have a float datatype.\n",
    "# It is very difficult to run a pd.merge() on these columns.\n",
    "# The float has rounding errors, running np.allclose() won't\n",
    "# fix these,\n",
    "\n",
    "# To fix this, multiply by a big power of 10, convert to nullable integer type.\n",
    "# pd.merge() on integer indexed columns.\n",
    "# Then convert back to float.\n",
    "\n",
    "ibt2['lat'] = np.round(ibt2['lat']* N).astype(pd.Int64Dtype())\n",
    "ibt2['lon'] = np.round(ibt2['lon']* N).astype(pd.Int64Dtype())\n",
    "\n",
    "lm2['lat'] = np.round(lm2['lat'] * N).astype(pd.Int64Dtype())\n",
    "lm2['lon'] = np.round(lm2['lon']* N).astype(pd.Int64Dtype())\n",
    "\n",
    "flag_merge = pd.merge(ibt2, lm2, how = 'left', on = ['lat', 'lon'])\n",
    "\n",
    "ibt2['lat'] = ibt2['lat']/N;\n",
    "ibt2['lon'] = ibt2['lon']/N;\n",
    "\n",
    "lm2['lat'] = lm2['lat']/N;\n",
    "lm2['lon'] = lm2['lon']/N;\n",
    "\n",
    "flag_merge['lat'] = flag_merge['lat']/N;\n",
    "flag_merge['lon'] = flag_merge['lon']/N;"
   ]
  },
  {
   "cell_type": "raw",
   "metadata": {},
   "source": [
    "landfall = flag_merge[(flag_merge.phil_box == True) & (flag_merge.z >= 0)]"
   ]
  },
  {
   "cell_type": "code",
   "execution_count": null,
   "metadata": {},
   "outputs": [],
   "source": [
    "boxfall = flag_merge[(flag_merge.phil_box == True)]"
   ]
  },
  {
   "cell_type": "raw",
   "metadata": {},
   "source": [
    "#This gives us the range of years, so we can work out the number of cyclones within phil_box per year.\n",
    "print(landfall['time_recorded'].min(), landfall['time_recorded'].max())"
   ]
  },
  {
   "cell_type": "code",
   "execution_count": null,
   "metadata": {},
   "outputs": [],
   "source": [
    "boxfall.to_pickle(os.path.join('..','deconstruct_cyn','phil_cyclones.pkl'))"
   ]
  }
 ],
 "metadata": {
  "kernelspec": {
   "display_name": "Python 3",
   "language": "python",
   "name": "python3"
  },
  "language_info": {
   "codemirror_mode": {
    "name": "ipython",
    "version": 3
   },
   "file_extension": ".py",
   "mimetype": "text/x-python",
   "name": "python",
   "nbconvert_exporter": "python",
   "pygments_lexer": "ipython3",
   "version": "3.6.6"
  }
 },
 "nbformat": 4,
 "nbformat_minor": 2
}
