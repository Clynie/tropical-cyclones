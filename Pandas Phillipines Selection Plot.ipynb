{
 "cells": [
  {
   "cell_type": "code",
   "execution_count": 1,
   "metadata": {},
   "outputs": [],
   "source": [
    "import numpy as np\n",
    "import os\n",
    "import pandas as pd\n",
    "import matplotlib as mpl\n",
    "from matplotlib import pyplot as plt\n",
    "import seaborn as sns\n",
    "sns.set()\n",
    "\n",
    "import netCDF4\n",
    "import time\n",
    "import xarray"
   ]
  },
  {
   "cell_type": "code",
   "execution_count": 2,
   "metadata": {},
   "outputs": [],
   "source": [
    "phil_cyclones = pd.read_pickle(os.path.join('..','deconstruct_cyn','phil_cyclones.pkl'))"
   ]
  },
  {
   "cell_type": "code",
   "execution_count": 3,
   "metadata": {},
   "outputs": [
    {
     "name": "stdout",
     "output_type": "stream",
     "text": [
      "6.65625\n"
     ]
    }
   ],
   "source": [
    "\"\"\" Import landmask.\"\"\"\n",
    "#Elapsed time ~10 seconds.\n",
    "tic = time.process_time()\n",
    "\n",
    "nc_landmask = 'ETOPO1_Ice_g_gmt4.nc' #Land mask from ETOPO1 Global Relief Model\n",
    "path_to_nc2 = os.path.join('..','deconstruct_cyn',nc_landmask)\n",
    "\n",
    "landmask_all_fields = xarray.open_dataset(path_to_nc2).to_dataframe()\n",
    "\n",
    "toc = time.process_time()\n",
    "\n",
    "elapsed = toc - tic\n",
    "print(elapsed)"
   ]
  },
  {
   "cell_type": "markdown",
   "metadata": {},
   "source": [
    "# Creating a Boolean Mask for the Phillipines"
   ]
  },
  {
   "cell_type": "markdown",
   "metadata": {},
   "source": [
    "Here we want to create a bounding box for the phillipines. Note that the box made by the previous project team had sloped sides, so this approach will work for an arbitrary quadrilateral."
   ]
  },
  {
   "cell_type": "code",
   "execution_count": 4,
   "metadata": {},
   "outputs": [],
   "source": [
    "lm2 = landmask_all_fields.reset_index()"
   ]
  },
  {
   "cell_type": "code",
   "execution_count": 5,
   "metadata": {},
   "outputs": [],
   "source": [
    "eps = 1e-3\n",
    "\n",
    "m1 = 1/5\n",
    "m2 = -130/53\n",
    "m3 = 27/56\n",
    "m4 = -73/26\n",
    "\n",
    "c1 = -5.38\n",
    "c2 = +320.65\n",
    "c3 = -55.61\n",
    "c4 = +347.72"
   ]
  },
  {
   "cell_type": "markdown",
   "metadata": {},
   "source": [
    "Here we split the box into three parts, alpha (a), beta (b), gamma.\n",
    "Then join them by finding the union of the three sets of lon, lat points."
   ]
  },
  {
   "cell_type": "code",
   "execution_count": 6,
   "metadata": {},
   "outputs": [
    {
     "data": {
      "text/plain": [
       "False    231865134\n",
       "True       1447267\n",
       "Name: lat, dtype: int64"
      ]
     },
     "execution_count": 6,
     "metadata": {},
     "output_type": "execute_result"
    }
   ],
   "source": [
    "lat_within_a = (18.1-eps <= lm2.lat) & (lm2.lat <= (19.2+eps))\n",
    "lat_within_a.value_counts()"
   ]
  },
  {
   "cell_type": "code",
   "execution_count": 7,
   "metadata": {},
   "outputs": [
    {
     "data": {
      "text/plain": [
       "False    138502946\n",
       "True      94809455\n",
       "dtype: int64"
      ]
     },
     "execution_count": 7,
     "metadata": {},
     "output_type": "execute_result"
    }
   ],
   "source": [
    "lon_left_a = (lm2.lat - c1)/m1\n",
    "lon_right_a = (lm2.lat - c2)/m2\n",
    "lon_within_a = (lon_left_a <= lm2.lon) & (lm2.lon <= lon_right_a)\n",
    "lon_within_a.value_counts()"
   ]
  },
  {
   "cell_type": "code",
   "execution_count": 8,
   "metadata": {},
   "outputs": [
    {
     "data": {
      "text/plain": [
       "False    233300429\n",
       "True         11972\n",
       "dtype: int64"
      ]
     },
     "execution_count": 8,
     "metadata": {},
     "output_type": "execute_result"
    }
   ],
   "source": [
    "point_within_a = lat_within_a & lon_within_a\n",
    "point_within_a.value_counts()"
   ]
  },
  {
   "cell_type": "code",
   "execution_count": 9,
   "metadata": {},
   "outputs": [
    {
     "data": {
      "text/plain": [
       "False    217867686\n",
       "True      15444715\n",
       "Name: lat, dtype: int64"
      ]
     },
     "execution_count": 9,
     "metadata": {},
     "output_type": "execute_result"
    }
   ],
   "source": [
    "lat_within_b = (6.2 <= lm2.lat) & (lm2.lat <= 18.1)\n",
    "lat_within_b.value_counts()"
   ]
  },
  {
   "cell_type": "code",
   "execution_count": 10,
   "metadata": {},
   "outputs": [
    {
     "data": {
      "text/plain": [
       "False    228853085\n",
       "True       4459316\n",
       "dtype: int64"
      ]
     },
     "execution_count": 10,
     "metadata": {},
     "output_type": "execute_result"
    }
   ],
   "source": [
    "lon_left_b = (lm2.lat - c4)/m4\n",
    "lon_right_b = (lm2.lat - c2)/m2\n",
    "lon_within_b = (lon_left_b <= lm2.lon) & (lm2.lon <= lon_right_b)\n",
    "lon_within_b.value_counts()"
   ]
  },
  {
   "cell_type": "code",
   "execution_count": 11,
   "metadata": {},
   "outputs": [
    {
     "data": {
      "text/plain": [
       "False    233044064\n",
       "True        268337\n",
       "dtype: int64"
      ]
     },
     "execution_count": 11,
     "metadata": {},
     "output_type": "execute_result"
    }
   ],
   "source": [
    "point_within_b = lat_within_b & lon_within_b\n",
    "point_within_b.value_counts()"
   ]
  },
  {
   "cell_type": "code",
   "execution_count": 12,
   "metadata": {},
   "outputs": [
    {
     "data": {
      "text/plain": [
       "False    229813039\n",
       "True       3499362\n",
       "Name: lat, dtype: int64"
      ]
     },
     "execution_count": 12,
     "metadata": {},
     "output_type": "execute_result"
    }
   ],
   "source": [
    "lat_within_gamma = (3.484 <= lm2.lat) & (lm2.lat <= 6.2) #originally 3.5 - 6.2\n",
    "lat_within_gamma.value_counts()"
   ]
  },
  {
   "cell_type": "code",
   "execution_count": 13,
   "metadata": {},
   "outputs": [
    {
     "data": {
      "text/plain": [
       "False    213496005\n",
       "True      19816396\n",
       "dtype: int64"
      ]
     },
     "execution_count": 13,
     "metadata": {},
     "output_type": "execute_result"
    }
   ],
   "source": [
    "lon_left_gamma = (lm2.lat - c4)/m4\n",
    "lon_right_gamma = (lm2.lat - c3)/m3\n",
    "lon_within_gamma = (lon_left_gamma <= lm2.lon) & (lm2.lon <= lon_right_gamma)\n",
    "lon_within_gamma.value_counts()"
   ]
  },
  {
   "cell_type": "code",
   "execution_count": 14,
   "metadata": {},
   "outputs": [
    {
     "data": {
      "text/plain": [
       "False    233280713\n",
       "True         31688\n",
       "dtype: int64"
      ]
     },
     "execution_count": 14,
     "metadata": {},
     "output_type": "execute_result"
    }
   ],
   "source": [
    "point_within_gamma = lat_within_gamma & lon_within_gamma\n",
    "point_within_gamma.value_counts()\n",
    "\n"
   ]
  },
  {
   "cell_type": "code",
   "execution_count": 15,
   "metadata": {},
   "outputs": [
    {
     "data": {
      "text/plain": [
       "False    233000761\n",
       "True        311640\n",
       "dtype: int64"
      ]
     },
     "execution_count": 15,
     "metadata": {},
     "output_type": "execute_result"
    }
   ],
   "source": [
    "point_within_phillipines_box = (point_within_a | point_within_b | point_within_gamma)\n",
    "point_within_phillipines_box.value_counts()"
   ]
  },
  {
   "cell_type": "code",
   "execution_count": 16,
   "metadata": {},
   "outputs": [],
   "source": [
    "lm2['phil_box'] = point_within_phillipines_box"
   ]
  },
  {
   "cell_type": "code",
   "execution_count": 17,
   "metadata": {},
   "outputs": [],
   "source": [
    "phil = lm2[lm2.phil_box]"
   ]
  },
  {
   "cell_type": "code",
   "execution_count": 18,
   "metadata": {},
   "outputs": [],
   "source": [
    "phindex = phil.set_index(['lon','lat'])"
   ]
  },
  {
   "cell_type": "code",
   "execution_count": 19,
   "metadata": {},
   "outputs": [],
   "source": [
    "ztable = phindex.z.unstack(level=0) #122.600000 3.516667  122.60000000000001"
   ]
  },
  {
   "cell_type": "code",
   "execution_count": 20,
   "metadata": {},
   "outputs": [],
   "source": [
    "lat = ztable.index"
   ]
  },
  {
   "cell_type": "code",
   "execution_count": 21,
   "metadata": {},
   "outputs": [],
   "source": [
    "lon = ztable.columns"
   ]
  },
  {
   "cell_type": "code",
   "execution_count": 22,
   "metadata": {},
   "outputs": [],
   "source": [
    "z2tab = phil.pivot('lat', 'lon')['z']"
   ]
  },
  {
   "cell_type": "code",
   "execution_count": 23,
   "metadata": {},
   "outputs": [],
   "source": [
    "lonmesh, latmesh = np.meshgrid(lon, lat)"
   ]
  },
  {
   "cell_type": "code",
   "execution_count": 67,
   "metadata": {},
   "outputs": [],
   "source": [
    "%matplotlib notebook"
   ]
  },
  {
   "cell_type": "code",
   "execution_count": 75,
   "metadata": {},
   "outputs": [
    {
     "data": {
      "application/javascript": [
       "/* Put everything inside the global mpl namespace */\n",
       "window.mpl = {};\n",
       "\n",
       "\n",
       "mpl.get_websocket_type = function() {\n",
       "    if (typeof(WebSocket) !== 'undefined') {\n",
       "        return WebSocket;\n",
       "    } else if (typeof(MozWebSocket) !== 'undefined') {\n",
       "        return MozWebSocket;\n",
       "    } else {\n",
       "        alert('Your browser does not have WebSocket support.' +\n",
       "              'Please try Chrome, Safari or Firefox ≥ 6. ' +\n",
       "              'Firefox 4 and 5 are also supported but you ' +\n",
       "              'have to enable WebSockets in about:config.');\n",
       "    };\n",
       "}\n",
       "\n",
       "mpl.figure = function(figure_id, websocket, ondownload, parent_element) {\n",
       "    this.id = figure_id;\n",
       "\n",
       "    this.ws = websocket;\n",
       "\n",
       "    this.supports_binary = (this.ws.binaryType != undefined);\n",
       "\n",
       "    if (!this.supports_binary) {\n",
       "        var warnings = document.getElementById(\"mpl-warnings\");\n",
       "        if (warnings) {\n",
       "            warnings.style.display = 'block';\n",
       "            warnings.textContent = (\n",
       "                \"This browser does not support binary websocket messages. \" +\n",
       "                    \"Performance may be slow.\");\n",
       "        }\n",
       "    }\n",
       "\n",
       "    this.imageObj = new Image();\n",
       "\n",
       "    this.context = undefined;\n",
       "    this.message = undefined;\n",
       "    this.canvas = undefined;\n",
       "    this.rubberband_canvas = undefined;\n",
       "    this.rubberband_context = undefined;\n",
       "    this.format_dropdown = undefined;\n",
       "\n",
       "    this.image_mode = 'full';\n",
       "\n",
       "    this.root = $('<div/>');\n",
       "    this._root_extra_style(this.root)\n",
       "    this.root.attr('style', 'display: inline-block');\n",
       "\n",
       "    $(parent_element).append(this.root);\n",
       "\n",
       "    this._init_header(this);\n",
       "    this._init_canvas(this);\n",
       "    this._init_toolbar(this);\n",
       "\n",
       "    var fig = this;\n",
       "\n",
       "    this.waiting = false;\n",
       "\n",
       "    this.ws.onopen =  function () {\n",
       "            fig.send_message(\"supports_binary\", {value: fig.supports_binary});\n",
       "            fig.send_message(\"send_image_mode\", {});\n",
       "            if (mpl.ratio != 1) {\n",
       "                fig.send_message(\"set_dpi_ratio\", {'dpi_ratio': mpl.ratio});\n",
       "            }\n",
       "            fig.send_message(\"refresh\", {});\n",
       "        }\n",
       "\n",
       "    this.imageObj.onload = function() {\n",
       "            if (fig.image_mode == 'full') {\n",
       "                // Full images could contain transparency (where diff images\n",
       "                // almost always do), so we need to clear the canvas so that\n",
       "                // there is no ghosting.\n",
       "                fig.context.clearRect(0, 0, fig.canvas.width, fig.canvas.height);\n",
       "            }\n",
       "            fig.context.drawImage(fig.imageObj, 0, 0);\n",
       "        };\n",
       "\n",
       "    this.imageObj.onunload = function() {\n",
       "        fig.ws.close();\n",
       "    }\n",
       "\n",
       "    this.ws.onmessage = this._make_on_message_function(this);\n",
       "\n",
       "    this.ondownload = ondownload;\n",
       "}\n",
       "\n",
       "mpl.figure.prototype._init_header = function() {\n",
       "    var titlebar = $(\n",
       "        '<div class=\"ui-dialog-titlebar ui-widget-header ui-corner-all ' +\n",
       "        'ui-helper-clearfix\"/>');\n",
       "    var titletext = $(\n",
       "        '<div class=\"ui-dialog-title\" style=\"width: 100%; ' +\n",
       "        'text-align: center; padding: 3px;\"/>');\n",
       "    titlebar.append(titletext)\n",
       "    this.root.append(titlebar);\n",
       "    this.header = titletext[0];\n",
       "}\n",
       "\n",
       "\n",
       "\n",
       "mpl.figure.prototype._canvas_extra_style = function(canvas_div) {\n",
       "\n",
       "}\n",
       "\n",
       "\n",
       "mpl.figure.prototype._root_extra_style = function(canvas_div) {\n",
       "\n",
       "}\n",
       "\n",
       "mpl.figure.prototype._init_canvas = function() {\n",
       "    var fig = this;\n",
       "\n",
       "    var canvas_div = $('<div/>');\n",
       "\n",
       "    canvas_div.attr('style', 'position: relative; clear: both; outline: 0');\n",
       "\n",
       "    function canvas_keyboard_event(event) {\n",
       "        return fig.key_event(event, event['data']);\n",
       "    }\n",
       "\n",
       "    canvas_div.keydown('key_press', canvas_keyboard_event);\n",
       "    canvas_div.keyup('key_release', canvas_keyboard_event);\n",
       "    this.canvas_div = canvas_div\n",
       "    this._canvas_extra_style(canvas_div)\n",
       "    this.root.append(canvas_div);\n",
       "\n",
       "    var canvas = $('<canvas/>');\n",
       "    canvas.addClass('mpl-canvas');\n",
       "    canvas.attr('style', \"left: 0; top: 0; z-index: 0; outline: 0\")\n",
       "\n",
       "    this.canvas = canvas[0];\n",
       "    this.context = canvas[0].getContext(\"2d\");\n",
       "\n",
       "    var backingStore = this.context.backingStorePixelRatio ||\n",
       "\tthis.context.webkitBackingStorePixelRatio ||\n",
       "\tthis.context.mozBackingStorePixelRatio ||\n",
       "\tthis.context.msBackingStorePixelRatio ||\n",
       "\tthis.context.oBackingStorePixelRatio ||\n",
       "\tthis.context.backingStorePixelRatio || 1;\n",
       "\n",
       "    mpl.ratio = (window.devicePixelRatio || 1) / backingStore;\n",
       "\n",
       "    var rubberband = $('<canvas/>');\n",
       "    rubberband.attr('style', \"position: absolute; left: 0; top: 0; z-index: 1;\")\n",
       "\n",
       "    var pass_mouse_events = true;\n",
       "\n",
       "    canvas_div.resizable({\n",
       "        start: function(event, ui) {\n",
       "            pass_mouse_events = false;\n",
       "        },\n",
       "        resize: function(event, ui) {\n",
       "            fig.request_resize(ui.size.width, ui.size.height);\n",
       "        },\n",
       "        stop: function(event, ui) {\n",
       "            pass_mouse_events = true;\n",
       "            fig.request_resize(ui.size.width, ui.size.height);\n",
       "        },\n",
       "    });\n",
       "\n",
       "    function mouse_event_fn(event) {\n",
       "        if (pass_mouse_events)\n",
       "            return fig.mouse_event(event, event['data']);\n",
       "    }\n",
       "\n",
       "    rubberband.mousedown('button_press', mouse_event_fn);\n",
       "    rubberband.mouseup('button_release', mouse_event_fn);\n",
       "    // Throttle sequential mouse events to 1 every 20ms.\n",
       "    rubberband.mousemove('motion_notify', mouse_event_fn);\n",
       "\n",
       "    rubberband.mouseenter('figure_enter', mouse_event_fn);\n",
       "    rubberband.mouseleave('figure_leave', mouse_event_fn);\n",
       "\n",
       "    canvas_div.on(\"wheel\", function (event) {\n",
       "        event = event.originalEvent;\n",
       "        event['data'] = 'scroll'\n",
       "        if (event.deltaY < 0) {\n",
       "            event.step = 1;\n",
       "        } else {\n",
       "            event.step = -1;\n",
       "        }\n",
       "        mouse_event_fn(event);\n",
       "    });\n",
       "\n",
       "    canvas_div.append(canvas);\n",
       "    canvas_div.append(rubberband);\n",
       "\n",
       "    this.rubberband = rubberband;\n",
       "    this.rubberband_canvas = rubberband[0];\n",
       "    this.rubberband_context = rubberband[0].getContext(\"2d\");\n",
       "    this.rubberband_context.strokeStyle = \"#000000\";\n",
       "\n",
       "    this._resize_canvas = function(width, height) {\n",
       "        // Keep the size of the canvas, canvas container, and rubber band\n",
       "        // canvas in synch.\n",
       "        canvas_div.css('width', width)\n",
       "        canvas_div.css('height', height)\n",
       "\n",
       "        canvas.attr('width', width * mpl.ratio);\n",
       "        canvas.attr('height', height * mpl.ratio);\n",
       "        canvas.attr('style', 'width: ' + width + 'px; height: ' + height + 'px;');\n",
       "\n",
       "        rubberband.attr('width', width);\n",
       "        rubberband.attr('height', height);\n",
       "    }\n",
       "\n",
       "    // Set the figure to an initial 600x600px, this will subsequently be updated\n",
       "    // upon first draw.\n",
       "    this._resize_canvas(600, 600);\n",
       "\n",
       "    // Disable right mouse context menu.\n",
       "    $(this.rubberband_canvas).bind(\"contextmenu\",function(e){\n",
       "        return false;\n",
       "    });\n",
       "\n",
       "    function set_focus () {\n",
       "        canvas.focus();\n",
       "        canvas_div.focus();\n",
       "    }\n",
       "\n",
       "    window.setTimeout(set_focus, 100);\n",
       "}\n",
       "\n",
       "mpl.figure.prototype._init_toolbar = function() {\n",
       "    var fig = this;\n",
       "\n",
       "    var nav_element = $('<div/>')\n",
       "    nav_element.attr('style', 'width: 100%');\n",
       "    this.root.append(nav_element);\n",
       "\n",
       "    // Define a callback function for later on.\n",
       "    function toolbar_event(event) {\n",
       "        return fig.toolbar_button_onclick(event['data']);\n",
       "    }\n",
       "    function toolbar_mouse_event(event) {\n",
       "        return fig.toolbar_button_onmouseover(event['data']);\n",
       "    }\n",
       "\n",
       "    for(var toolbar_ind in mpl.toolbar_items) {\n",
       "        var name = mpl.toolbar_items[toolbar_ind][0];\n",
       "        var tooltip = mpl.toolbar_items[toolbar_ind][1];\n",
       "        var image = mpl.toolbar_items[toolbar_ind][2];\n",
       "        var method_name = mpl.toolbar_items[toolbar_ind][3];\n",
       "\n",
       "        if (!name) {\n",
       "            // put a spacer in here.\n",
       "            continue;\n",
       "        }\n",
       "        var button = $('<button/>');\n",
       "        button.addClass('ui-button ui-widget ui-state-default ui-corner-all ' +\n",
       "                        'ui-button-icon-only');\n",
       "        button.attr('role', 'button');\n",
       "        button.attr('aria-disabled', 'false');\n",
       "        button.click(method_name, toolbar_event);\n",
       "        button.mouseover(tooltip, toolbar_mouse_event);\n",
       "\n",
       "        var icon_img = $('<span/>');\n",
       "        icon_img.addClass('ui-button-icon-primary ui-icon');\n",
       "        icon_img.addClass(image);\n",
       "        icon_img.addClass('ui-corner-all');\n",
       "\n",
       "        var tooltip_span = $('<span/>');\n",
       "        tooltip_span.addClass('ui-button-text');\n",
       "        tooltip_span.html(tooltip);\n",
       "\n",
       "        button.append(icon_img);\n",
       "        button.append(tooltip_span);\n",
       "\n",
       "        nav_element.append(button);\n",
       "    }\n",
       "\n",
       "    var fmt_picker_span = $('<span/>');\n",
       "\n",
       "    var fmt_picker = $('<select/>');\n",
       "    fmt_picker.addClass('mpl-toolbar-option ui-widget ui-widget-content');\n",
       "    fmt_picker_span.append(fmt_picker);\n",
       "    nav_element.append(fmt_picker_span);\n",
       "    this.format_dropdown = fmt_picker[0];\n",
       "\n",
       "    for (var ind in mpl.extensions) {\n",
       "        var fmt = mpl.extensions[ind];\n",
       "        var option = $(\n",
       "            '<option/>', {selected: fmt === mpl.default_extension}).html(fmt);\n",
       "        fmt_picker.append(option)\n",
       "    }\n",
       "\n",
       "    // Add hover states to the ui-buttons\n",
       "    $( \".ui-button\" ).hover(\n",
       "        function() { $(this).addClass(\"ui-state-hover\");},\n",
       "        function() { $(this).removeClass(\"ui-state-hover\");}\n",
       "    );\n",
       "\n",
       "    var status_bar = $('<span class=\"mpl-message\"/>');\n",
       "    nav_element.append(status_bar);\n",
       "    this.message = status_bar[0];\n",
       "}\n",
       "\n",
       "mpl.figure.prototype.request_resize = function(x_pixels, y_pixels) {\n",
       "    // Request matplotlib to resize the figure. Matplotlib will then trigger a resize in the client,\n",
       "    // which will in turn request a refresh of the image.\n",
       "    this.send_message('resize', {'width': x_pixels, 'height': y_pixels});\n",
       "}\n",
       "\n",
       "mpl.figure.prototype.send_message = function(type, properties) {\n",
       "    properties['type'] = type;\n",
       "    properties['figure_id'] = this.id;\n",
       "    this.ws.send(JSON.stringify(properties));\n",
       "}\n",
       "\n",
       "mpl.figure.prototype.send_draw_message = function() {\n",
       "    if (!this.waiting) {\n",
       "        this.waiting = true;\n",
       "        this.ws.send(JSON.stringify({type: \"draw\", figure_id: this.id}));\n",
       "    }\n",
       "}\n",
       "\n",
       "\n",
       "mpl.figure.prototype.handle_save = function(fig, msg) {\n",
       "    var format_dropdown = fig.format_dropdown;\n",
       "    var format = format_dropdown.options[format_dropdown.selectedIndex].value;\n",
       "    fig.ondownload(fig, format);\n",
       "}\n",
       "\n",
       "\n",
       "mpl.figure.prototype.handle_resize = function(fig, msg) {\n",
       "    var size = msg['size'];\n",
       "    if (size[0] != fig.canvas.width || size[1] != fig.canvas.height) {\n",
       "        fig._resize_canvas(size[0], size[1]);\n",
       "        fig.send_message(\"refresh\", {});\n",
       "    };\n",
       "}\n",
       "\n",
       "mpl.figure.prototype.handle_rubberband = function(fig, msg) {\n",
       "    var x0 = msg['x0'] / mpl.ratio;\n",
       "    var y0 = (fig.canvas.height - msg['y0']) / mpl.ratio;\n",
       "    var x1 = msg['x1'] / mpl.ratio;\n",
       "    var y1 = (fig.canvas.height - msg['y1']) / mpl.ratio;\n",
       "    x0 = Math.floor(x0) + 0.5;\n",
       "    y0 = Math.floor(y0) + 0.5;\n",
       "    x1 = Math.floor(x1) + 0.5;\n",
       "    y1 = Math.floor(y1) + 0.5;\n",
       "    var min_x = Math.min(x0, x1);\n",
       "    var min_y = Math.min(y0, y1);\n",
       "    var width = Math.abs(x1 - x0);\n",
       "    var height = Math.abs(y1 - y0);\n",
       "\n",
       "    fig.rubberband_context.clearRect(\n",
       "        0, 0, fig.canvas.width, fig.canvas.height);\n",
       "\n",
       "    fig.rubberband_context.strokeRect(min_x, min_y, width, height);\n",
       "}\n",
       "\n",
       "mpl.figure.prototype.handle_figure_label = function(fig, msg) {\n",
       "    // Updates the figure title.\n",
       "    fig.header.textContent = msg['label'];\n",
       "}\n",
       "\n",
       "mpl.figure.prototype.handle_cursor = function(fig, msg) {\n",
       "    var cursor = msg['cursor'];\n",
       "    switch(cursor)\n",
       "    {\n",
       "    case 0:\n",
       "        cursor = 'pointer';\n",
       "        break;\n",
       "    case 1:\n",
       "        cursor = 'default';\n",
       "        break;\n",
       "    case 2:\n",
       "        cursor = 'crosshair';\n",
       "        break;\n",
       "    case 3:\n",
       "        cursor = 'move';\n",
       "        break;\n",
       "    }\n",
       "    fig.rubberband_canvas.style.cursor = cursor;\n",
       "}\n",
       "\n",
       "mpl.figure.prototype.handle_message = function(fig, msg) {\n",
       "    fig.message.textContent = msg['message'];\n",
       "}\n",
       "\n",
       "mpl.figure.prototype.handle_draw = function(fig, msg) {\n",
       "    // Request the server to send over a new figure.\n",
       "    fig.send_draw_message();\n",
       "}\n",
       "\n",
       "mpl.figure.prototype.handle_image_mode = function(fig, msg) {\n",
       "    fig.image_mode = msg['mode'];\n",
       "}\n",
       "\n",
       "mpl.figure.prototype.updated_canvas_event = function() {\n",
       "    // Called whenever the canvas gets updated.\n",
       "    this.send_message(\"ack\", {});\n",
       "}\n",
       "\n",
       "// A function to construct a web socket function for onmessage handling.\n",
       "// Called in the figure constructor.\n",
       "mpl.figure.prototype._make_on_message_function = function(fig) {\n",
       "    return function socket_on_message(evt) {\n",
       "        if (evt.data instanceof Blob) {\n",
       "            /* FIXME: We get \"Resource interpreted as Image but\n",
       "             * transferred with MIME type text/plain:\" errors on\n",
       "             * Chrome.  But how to set the MIME type?  It doesn't seem\n",
       "             * to be part of the websocket stream */\n",
       "            evt.data.type = \"image/png\";\n",
       "\n",
       "            /* Free the memory for the previous frames */\n",
       "            if (fig.imageObj.src) {\n",
       "                (window.URL || window.webkitURL).revokeObjectURL(\n",
       "                    fig.imageObj.src);\n",
       "            }\n",
       "\n",
       "            fig.imageObj.src = (window.URL || window.webkitURL).createObjectURL(\n",
       "                evt.data);\n",
       "            fig.updated_canvas_event();\n",
       "            fig.waiting = false;\n",
       "            return;\n",
       "        }\n",
       "        else if (typeof evt.data === 'string' && evt.data.slice(0, 21) == \"data:image/png;base64\") {\n",
       "            fig.imageObj.src = evt.data;\n",
       "            fig.updated_canvas_event();\n",
       "            fig.waiting = false;\n",
       "            return;\n",
       "        }\n",
       "\n",
       "        var msg = JSON.parse(evt.data);\n",
       "        var msg_type = msg['type'];\n",
       "\n",
       "        // Call the  \"handle_{type}\" callback, which takes\n",
       "        // the figure and JSON message as its only arguments.\n",
       "        try {\n",
       "            var callback = fig[\"handle_\" + msg_type];\n",
       "        } catch (e) {\n",
       "            console.log(\"No handler for the '\" + msg_type + \"' message type: \", msg);\n",
       "            return;\n",
       "        }\n",
       "\n",
       "        if (callback) {\n",
       "            try {\n",
       "                // console.log(\"Handling '\" + msg_type + \"' message: \", msg);\n",
       "                callback(fig, msg);\n",
       "            } catch (e) {\n",
       "                console.log(\"Exception inside the 'handler_\" + msg_type + \"' callback:\", e, e.stack, msg);\n",
       "            }\n",
       "        }\n",
       "    };\n",
       "}\n",
       "\n",
       "// from http://stackoverflow.com/questions/1114465/getting-mouse-location-in-canvas\n",
       "mpl.findpos = function(e) {\n",
       "    //this section is from http://www.quirksmode.org/js/events_properties.html\n",
       "    var targ;\n",
       "    if (!e)\n",
       "        e = window.event;\n",
       "    if (e.target)\n",
       "        targ = e.target;\n",
       "    else if (e.srcElement)\n",
       "        targ = e.srcElement;\n",
       "    if (targ.nodeType == 3) // defeat Safari bug\n",
       "        targ = targ.parentNode;\n",
       "\n",
       "    // jQuery normalizes the pageX and pageY\n",
       "    // pageX,Y are the mouse positions relative to the document\n",
       "    // offset() returns the position of the element relative to the document\n",
       "    var x = e.pageX - $(targ).offset().left;\n",
       "    var y = e.pageY - $(targ).offset().top;\n",
       "\n",
       "    return {\"x\": x, \"y\": y};\n",
       "};\n",
       "\n",
       "/*\n",
       " * return a copy of an object with only non-object keys\n",
       " * we need this to avoid circular references\n",
       " * http://stackoverflow.com/a/24161582/3208463\n",
       " */\n",
       "function simpleKeys (original) {\n",
       "  return Object.keys(original).reduce(function (obj, key) {\n",
       "    if (typeof original[key] !== 'object')\n",
       "        obj[key] = original[key]\n",
       "    return obj;\n",
       "  }, {});\n",
       "}\n",
       "\n",
       "mpl.figure.prototype.mouse_event = function(event, name) {\n",
       "    var canvas_pos = mpl.findpos(event)\n",
       "\n",
       "    if (name === 'button_press')\n",
       "    {\n",
       "        this.canvas.focus();\n",
       "        this.canvas_div.focus();\n",
       "    }\n",
       "\n",
       "    var x = canvas_pos.x * mpl.ratio;\n",
       "    var y = canvas_pos.y * mpl.ratio;\n",
       "\n",
       "    this.send_message(name, {x: x, y: y, button: event.button,\n",
       "                             step: event.step,\n",
       "                             guiEvent: simpleKeys(event)});\n",
       "\n",
       "    /* This prevents the web browser from automatically changing to\n",
       "     * the text insertion cursor when the button is pressed.  We want\n",
       "     * to control all of the cursor setting manually through the\n",
       "     * 'cursor' event from matplotlib */\n",
       "    event.preventDefault();\n",
       "    return false;\n",
       "}\n",
       "\n",
       "mpl.figure.prototype._key_event_extra = function(event, name) {\n",
       "    // Handle any extra behaviour associated with a key event\n",
       "}\n",
       "\n",
       "mpl.figure.prototype.key_event = function(event, name) {\n",
       "\n",
       "    // Prevent repeat events\n",
       "    if (name == 'key_press')\n",
       "    {\n",
       "        if (event.which === this._key)\n",
       "            return;\n",
       "        else\n",
       "            this._key = event.which;\n",
       "    }\n",
       "    if (name == 'key_release')\n",
       "        this._key = null;\n",
       "\n",
       "    var value = '';\n",
       "    if (event.ctrlKey && event.which != 17)\n",
       "        value += \"ctrl+\";\n",
       "    if (event.altKey && event.which != 18)\n",
       "        value += \"alt+\";\n",
       "    if (event.shiftKey && event.which != 16)\n",
       "        value += \"shift+\";\n",
       "\n",
       "    value += 'k';\n",
       "    value += event.which.toString();\n",
       "\n",
       "    this._key_event_extra(event, name);\n",
       "\n",
       "    this.send_message(name, {key: value,\n",
       "                             guiEvent: simpleKeys(event)});\n",
       "    return false;\n",
       "}\n",
       "\n",
       "mpl.figure.prototype.toolbar_button_onclick = function(name) {\n",
       "    if (name == 'download') {\n",
       "        this.handle_save(this, null);\n",
       "    } else {\n",
       "        this.send_message(\"toolbar_button\", {name: name});\n",
       "    }\n",
       "};\n",
       "\n",
       "mpl.figure.prototype.toolbar_button_onmouseover = function(tooltip) {\n",
       "    this.message.textContent = tooltip;\n",
       "};\n",
       "mpl.toolbar_items = [[\"Home\", \"Reset original view\", \"fa fa-home icon-home\", \"home\"], [\"Back\", \"Back to previous view\", \"fa fa-arrow-left icon-arrow-left\", \"back\"], [\"Forward\", \"Forward to next view\", \"fa fa-arrow-right icon-arrow-right\", \"forward\"], [\"\", \"\", \"\", \"\"], [\"Pan\", \"Pan axes with left mouse, zoom with right\", \"fa fa-arrows icon-move\", \"pan\"], [\"Zoom\", \"Zoom to rectangle\", \"fa fa-square-o icon-check-empty\", \"zoom\"], [\"\", \"\", \"\", \"\"], [\"Download\", \"Download plot\", \"fa fa-floppy-o icon-save\", \"download\"]];\n",
       "\n",
       "mpl.extensions = [\"eps\", \"pdf\", \"png\", \"ps\", \"raw\", \"svg\"];\n",
       "\n",
       "mpl.default_extension = \"png\";var comm_websocket_adapter = function(comm) {\n",
       "    // Create a \"websocket\"-like object which calls the given IPython comm\n",
       "    // object with the appropriate methods. Currently this is a non binary\n",
       "    // socket, so there is still some room for performance tuning.\n",
       "    var ws = {};\n",
       "\n",
       "    ws.close = function() {\n",
       "        comm.close()\n",
       "    };\n",
       "    ws.send = function(m) {\n",
       "        //console.log('sending', m);\n",
       "        comm.send(m);\n",
       "    };\n",
       "    // Register the callback with on_msg.\n",
       "    comm.on_msg(function(msg) {\n",
       "        //console.log('receiving', msg['content']['data'], msg);\n",
       "        // Pass the mpl event to the overridden (by mpl) onmessage function.\n",
       "        ws.onmessage(msg['content']['data'])\n",
       "    });\n",
       "    return ws;\n",
       "}\n",
       "\n",
       "mpl.mpl_figure_comm = function(comm, msg) {\n",
       "    // This is the function which gets called when the mpl process\n",
       "    // starts-up an IPython Comm through the \"matplotlib\" channel.\n",
       "\n",
       "    var id = msg.content.data.id;\n",
       "    // Get hold of the div created by the display call when the Comm\n",
       "    // socket was opened in Python.\n",
       "    var element = $(\"#\" + id);\n",
       "    var ws_proxy = comm_websocket_adapter(comm)\n",
       "\n",
       "    function ondownload(figure, format) {\n",
       "        window.open(figure.imageObj.src);\n",
       "    }\n",
       "\n",
       "    var fig = new mpl.figure(id, ws_proxy,\n",
       "                           ondownload,\n",
       "                           element.get(0));\n",
       "\n",
       "    // Call onopen now - mpl needs it, as it is assuming we've passed it a real\n",
       "    // web socket which is closed, not our websocket->open comm proxy.\n",
       "    ws_proxy.onopen();\n",
       "\n",
       "    fig.parent_element = element.get(0);\n",
       "    fig.cell_info = mpl.find_output_cell(\"<div id='\" + id + \"'></div>\");\n",
       "    if (!fig.cell_info) {\n",
       "        console.error(\"Failed to find cell for figure\", id, fig);\n",
       "        return;\n",
       "    }\n",
       "\n",
       "    var output_index = fig.cell_info[2]\n",
       "    var cell = fig.cell_info[0];\n",
       "\n",
       "};\n",
       "\n",
       "mpl.figure.prototype.handle_close = function(fig, msg) {\n",
       "    var width = fig.canvas.width/mpl.ratio\n",
       "    fig.root.unbind('remove')\n",
       "\n",
       "    // Update the output cell to use the data from the current canvas.\n",
       "    fig.push_to_output();\n",
       "    var dataURL = fig.canvas.toDataURL();\n",
       "    // Re-enable the keyboard manager in IPython - without this line, in FF,\n",
       "    // the notebook keyboard shortcuts fail.\n",
       "    IPython.keyboard_manager.enable()\n",
       "    $(fig.parent_element).html('<img src=\"' + dataURL + '\" width=\"' + width + '\">');\n",
       "    fig.close_ws(fig, msg);\n",
       "}\n",
       "\n",
       "mpl.figure.prototype.close_ws = function(fig, msg){\n",
       "    fig.send_message('closing', msg);\n",
       "    // fig.ws.close()\n",
       "}\n",
       "\n",
       "mpl.figure.prototype.push_to_output = function(remove_interactive) {\n",
       "    // Turn the data on the canvas into data in the output cell.\n",
       "    var width = this.canvas.width/mpl.ratio\n",
       "    var dataURL = this.canvas.toDataURL();\n",
       "    this.cell_info[1]['text/html'] = '<img src=\"' + dataURL + '\" width=\"' + width + '\">';\n",
       "}\n",
       "\n",
       "mpl.figure.prototype.updated_canvas_event = function() {\n",
       "    // Tell IPython that the notebook contents must change.\n",
       "    IPython.notebook.set_dirty(true);\n",
       "    this.send_message(\"ack\", {});\n",
       "    var fig = this;\n",
       "    // Wait a second, then push the new image to the DOM so\n",
       "    // that it is saved nicely (might be nice to debounce this).\n",
       "    setTimeout(function () { fig.push_to_output() }, 1000);\n",
       "}\n",
       "\n",
       "mpl.figure.prototype._init_toolbar = function() {\n",
       "    var fig = this;\n",
       "\n",
       "    var nav_element = $('<div/>')\n",
       "    nav_element.attr('style', 'width: 100%');\n",
       "    this.root.append(nav_element);\n",
       "\n",
       "    // Define a callback function for later on.\n",
       "    function toolbar_event(event) {\n",
       "        return fig.toolbar_button_onclick(event['data']);\n",
       "    }\n",
       "    function toolbar_mouse_event(event) {\n",
       "        return fig.toolbar_button_onmouseover(event['data']);\n",
       "    }\n",
       "\n",
       "    for(var toolbar_ind in mpl.toolbar_items){\n",
       "        var name = mpl.toolbar_items[toolbar_ind][0];\n",
       "        var tooltip = mpl.toolbar_items[toolbar_ind][1];\n",
       "        var image = mpl.toolbar_items[toolbar_ind][2];\n",
       "        var method_name = mpl.toolbar_items[toolbar_ind][3];\n",
       "\n",
       "        if (!name) { continue; };\n",
       "\n",
       "        var button = $('<button class=\"btn btn-default\" href=\"#\" title=\"' + name + '\"><i class=\"fa ' + image + ' fa-lg\"></i></button>');\n",
       "        button.click(method_name, toolbar_event);\n",
       "        button.mouseover(tooltip, toolbar_mouse_event);\n",
       "        nav_element.append(button);\n",
       "    }\n",
       "\n",
       "    // Add the status bar.\n",
       "    var status_bar = $('<span class=\"mpl-message\" style=\"text-align:right; float: right;\"/>');\n",
       "    nav_element.append(status_bar);\n",
       "    this.message = status_bar[0];\n",
       "\n",
       "    // Add the close button to the window.\n",
       "    var buttongrp = $('<div class=\"btn-group inline pull-right\"></div>');\n",
       "    var button = $('<button class=\"btn btn-mini btn-primary\" href=\"#\" title=\"Stop Interaction\"><i class=\"fa fa-power-off icon-remove icon-large\"></i></button>');\n",
       "    button.click(function (evt) { fig.handle_close(fig, {}); } );\n",
       "    button.mouseover('Stop Interaction', toolbar_mouse_event);\n",
       "    buttongrp.append(button);\n",
       "    var titlebar = this.root.find($('.ui-dialog-titlebar'));\n",
       "    titlebar.prepend(buttongrp);\n",
       "}\n",
       "\n",
       "mpl.figure.prototype._root_extra_style = function(el){\n",
       "    var fig = this\n",
       "    el.on(\"remove\", function(){\n",
       "\tfig.close_ws(fig, {});\n",
       "    });\n",
       "}\n",
       "\n",
       "mpl.figure.prototype._canvas_extra_style = function(el){\n",
       "    // this is important to make the div 'focusable\n",
       "    el.attr('tabindex', 0)\n",
       "    // reach out to IPython and tell the keyboard manager to turn it's self\n",
       "    // off when our div gets focus\n",
       "\n",
       "    // location in version 3\n",
       "    if (IPython.notebook.keyboard_manager) {\n",
       "        IPython.notebook.keyboard_manager.register_events(el);\n",
       "    }\n",
       "    else {\n",
       "        // location in version 2\n",
       "        IPython.keyboard_manager.register_events(el);\n",
       "    }\n",
       "\n",
       "}\n",
       "\n",
       "mpl.figure.prototype._key_event_extra = function(event, name) {\n",
       "    var manager = IPython.notebook.keyboard_manager;\n",
       "    if (!manager)\n",
       "        manager = IPython.keyboard_manager;\n",
       "\n",
       "    // Check for shift+enter\n",
       "    if (event.shiftKey && event.which == 13) {\n",
       "        this.canvas_div.blur();\n",
       "        event.shiftKey = false;\n",
       "        // Send a \"J\" for go to next cell\n",
       "        event.which = 74;\n",
       "        event.keyCode = 74;\n",
       "        manager.command_mode();\n",
       "        manager.handle_keydown(event);\n",
       "    }\n",
       "}\n",
       "\n",
       "mpl.figure.prototype.handle_save = function(fig, msg) {\n",
       "    fig.ondownload(fig, null);\n",
       "}\n",
       "\n",
       "\n",
       "mpl.find_output_cell = function(html_output) {\n",
       "    // Return the cell and output element which can be found *uniquely* in the notebook.\n",
       "    // Note - this is a bit hacky, but it is done because the \"notebook_saving.Notebook\"\n",
       "    // IPython event is triggered only after the cells have been serialised, which for\n",
       "    // our purposes (turning an active figure into a static one), is too late.\n",
       "    var cells = IPython.notebook.get_cells();\n",
       "    var ncells = cells.length;\n",
       "    for (var i=0; i<ncells; i++) {\n",
       "        var cell = cells[i];\n",
       "        if (cell.cell_type === 'code'){\n",
       "            for (var j=0; j<cell.output_area.outputs.length; j++) {\n",
       "                var data = cell.output_area.outputs[j];\n",
       "                if (data.data) {\n",
       "                    // IPython >= 3 moved mimebundle to data attribute of output\n",
       "                    data = data.data;\n",
       "                }\n",
       "                if (data['text/html'] == html_output) {\n",
       "                    return [cell, data, j];\n",
       "                }\n",
       "            }\n",
       "        }\n",
       "    }\n",
       "}\n",
       "\n",
       "// Register the function which deals with the matplotlib target/channel.\n",
       "// The kernel may be null if the page has been refreshed.\n",
       "if (IPython.notebook.kernel != null) {\n",
       "    IPython.notebook.kernel.comm_manager.register_target('matplotlib', mpl.mpl_figure_comm);\n",
       "}\n"
      ],
      "text/plain": [
       "<IPython.core.display.Javascript object>"
      ]
     },
     "metadata": {},
     "output_type": "display_data"
    },
    {
     "data": {
      "text/html": [
       "<img src=\"data:image/png;base64,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\" width=\"969\">"
      ],
      "text/plain": [
       "<IPython.core.display.HTML object>"
      ]
     },
     "metadata": {},
     "output_type": "display_data"
    },
    {
     "data": {
      "text/plain": [
       "<matplotlib.contour.QuadContourSet at 0x18abf31da90>"
      ]
     },
     "execution_count": 75,
     "metadata": {},
     "output_type": "execute_result"
    }
   ],
   "source": [
    "plt.contourf(lonmesh, latmesh, ztable)"
   ]
  },
  {
   "cell_type": "code",
   "execution_count": 77,
   "metadata": {},
   "outputs": [
    {
     "data": {
      "text/plain": [
       "<matplotlib.colorbar.Colorbar at 0x18ac01e9390>"
      ]
     },
     "execution_count": 77,
     "metadata": {},
     "output_type": "execute_result"
    }
   ],
   "source": [
    "plt.colorbar()"
   ]
  },
  {
   "cell_type": "code",
   "execution_count": 76,
   "metadata": {},
   "outputs": [
    {
     "data": {
      "text/plain": [
       "Text(0.5, 20.049999999999997, 'longitude (°E)')"
      ]
     },
     "execution_count": 76,
     "metadata": {},
     "output_type": "execute_result"
    }
   ],
   "source": [
    "plt.xlabel('longitude (°E)')"
   ]
  },
  {
   "cell_type": "code",
   "execution_count": 78,
   "metadata": {},
   "outputs": [
    {
     "data": {
      "text/plain": [
       "Text(44.125, 0.5, 'lattitude (°N)')"
      ]
     },
     "execution_count": 78,
     "metadata": {},
     "output_type": "execute_result"
    }
   ],
   "source": [
    "plt.ylabel('lattitude (°N)')"
   ]
  },
  {
   "cell_type": "code",
   "execution_count": 27,
   "metadata": {},
   "outputs": [
    {
     "data": {
      "text/plain": [
       "Text(0.5, 1.0, 'Altitude above sea level for selected region - Phillipines')"
      ]
     },
     "execution_count": 27,
     "metadata": {},
     "output_type": "execute_result"
    }
   ],
   "source": [
    "plt.title('Altitude above sea level for selected region - Phillipines')"
   ]
  },
  {
   "cell_type": "code",
   "execution_count": 28,
   "metadata": {},
   "outputs": [],
   "source": [
    "plt.savefig('phil_altitude.png')"
   ]
  },
  {
   "cell_type": "code",
   "execution_count": 49,
   "metadata": {},
   "outputs": [
    {
     "data": {
      "text/plain": [
       "<matplotlib.collections.PathCollection at 0x18abbd48860>"
      ]
     },
     "execution_count": 49,
     "metadata": {},
     "output_type": "execute_result"
    }
   ],
   "source": [
    "plt.scatter(phil_cyclones['lon'],phil_cyclones['lat'], c = 'white', alpha = 0.2, s = 1)"
   ]
  },
  {
   "cell_type": "code",
   "execution_count": 50,
   "metadata": {},
   "outputs": [
    {
     "data": {
      "text/plain": [
       "Text(0.5, 20.049999999999997, 'longitude (°E)')"
      ]
     },
     "execution_count": 50,
     "metadata": {},
     "output_type": "execute_result"
    }
   ],
   "source": [
    "plt.legend(['cyclones in white',])"
   ]
  },
  {
   "cell_type": "code",
   "execution_count": 51,
   "metadata": {},
   "outputs": [
    {
     "data": {
      "text/plain": [
       "Text(44.125, 0.5, 'lattitude (°N)')"
      ]
     },
     "execution_count": 51,
     "metadata": {},
     "output_type": "execute_result"
    }
   ],
   "source": [
    "plt.title('Cyclones detected in IBTracs data in Phillipines region')"
   ]
  },
  {
   "cell_type": "code",
   "execution_count": 56,
   "metadata": {},
   "outputs": [],
   "source": [
    "plt.savefig('phil_selections.png')"
   ]
  },
  {
   "cell_type": "code",
   "execution_count": 72,
   "metadata": {},
   "outputs": [],
   "source": [
    "olga = phil_cyclones[phil_cyclones.storm_sn == b'1976131N12142']"
   ]
  },
  {
   "cell_type": "code",
   "execution_count": 79,
   "metadata": {},
   "outputs": [
    {
     "data": {
      "text/plain": [
       "<matplotlib.collections.PathCollection at 0x18ac0203940>"
      ]
     },
     "execution_count": 79,
     "metadata": {},
     "output_type": "execute_result"
    }
   ],
   "source": [
    "plt.scatter(olga['lon'], olga['lat'], c = 'black', alpha = 0.2, s = 3)"
   ]
  },
  {
   "cell_type": "code",
   "execution_count": 80,
   "metadata": {},
   "outputs": [
    {
     "data": {
      "text/plain": [
       "Text(0.5, 1.0, 'Tropical Cyclone Olga (1976)')"
      ]
     },
     "execution_count": 80,
     "metadata": {},
     "output_type": "execute_result"
    }
   ],
   "source": [
    "plt.title('Tropical Cyclone Olga (1976)')"
   ]
  },
  {
   "cell_type": "code",
   "execution_count": 81,
   "metadata": {},
   "outputs": [],
   "source": [
    "plt.savefig('olga.png')"
   ]
  },
  {
   "cell_type": "code",
   "execution_count": null,
   "metadata": {},
   "outputs": [],
   "source": []
  }
 ],
 "metadata": {
  "kernelspec": {
   "display_name": "Python 3",
   "language": "python",
   "name": "python3"
  },
  "language_info": {
   "codemirror_mode": {
    "name": "ipython",
    "version": 3
   },
   "file_extension": ".py",
   "mimetype": "text/x-python",
   "name": "python",
   "nbconvert_exporter": "python",
   "pygments_lexer": "ipython3",
   "version": "3.6.6"
  }
 },
 "nbformat": 4,
 "nbformat_minor": 2
}
