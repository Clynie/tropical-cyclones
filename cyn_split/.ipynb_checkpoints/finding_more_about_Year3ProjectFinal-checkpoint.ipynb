{
 "cells": [
  {
   "cell_type": "code",
   "execution_count": null,
   "metadata": {},
   "outputs": [],
   "source": [
    "\"\"\"Using 'all' file instead of 'wmo' file\"\"\"\n",
    "import numpy as np \n",
    "import pandas as pd\n",
    "from netCDF4 import Dataset,num2date\n",
    "import matplotlib.pyplot as plt\n",
    "from scipy.optimize import curve_fit\n",
    "from scipy.stats import norm, poisson, lognorm, chisquare, linregress, ttest_ind, power_divergence, ks_2samp, chi2_contingency\n",
    "from scipy.interpolate import interp1d\n",
    "from scipy.special import factorial\n",
    "from matplotlib import cm\n",
    "from mpl_toolkits.mplot3d import Axes3D\n",
    "#%matplotlib tk    #Uncomment for interactive figures\n",
    "import geopy.distance as gd\n",
    "from sklearn.metrics import mean_squared_error\n",
    "import time\n",
    "import os"
   ]
  },
  {
   "cell_type": "code",
   "execution_count": null,
   "metadata": {},
   "outputs": [],
   "source": [
    "'''Read .nc file, credits: Theo Rashid'''\n",
    "tic = time.time() #Expect runtime ~5 min\n",
    "\n",
    "nc_ibtracs = 'Allstorms.ibtracs_all.v03r10.nc' #Using 'all' file\n",
    "path_to_nc_ibtracs = os.path.join('..','..','deconstruct_cyn',nc_ibtracs)\n",
    "ibt = Dataset(path_to_nc_ibtracs)\n",
    "\n",
    "name          = ibt.variables['name'][:] #Name of TC\n",
    "storm_sn      = ibt.variables['storm_sn'][:] \n",
    "time_record   = ibt.variables['source_time'][:] #Time of record\n",
    "landfall      = ibt.variables['landfall'][:]\n",
    "\n",
    "genesis_basin = ibt.variables['genesis_basin'][:]\n",
    "season        = ibt.variables['season'][:]\n",
    "\n",
    "lat           = ibt.variables['source_lat'][:] #Latitude of TC centre\n",
    "lon           = ibt.variables['source_lon'][:] #Longitude of TC centre\n",
    "max_wind      = ibt.variables['source_wind'][:] #Max. wind speed\n",
    "min_pres      = ibt.variables['source_pres'][:] #Central pressure\n",
    "dist2land     = ibt.variables['dist2land'][:] #Distance to land\n",
    "    \n",
    "\n",
    "nc_landmask = 'ETOPO1_Ice_g_gmt4.nc' #Land mask from ETOPO1 Global Relief Model\n",
    "path_to_nc_landmask = os.path.join('..','..','deconstruct_cyn',nc_landmask)\n",
    "land = Dataset(path_to_nc_landmask)\n",
    "\n",
    "landmask_lon = land.variables['lon'][:] #Longitude points of land mask\n",
    "landmask_lat = land.variables['lat'][:] #Latitude points\n",
    "z = land.variables['z'][:] #Altitude\n",
    "landmask_LAT, landmask_LON = np.meshgrid(landmask_lat, landmask_lon) #Create meshgrid for getting and plotting each point\n",
    "\n",
    "source_list = [10,14,19,21] #These are data from ibt, 10 is jtwc_wp, #14 is cma, #19 is wmo tokyo, #21 is hko\n",
    "LAT         = np.nan * np.ones(shape=(np.size(lat,0),np.size(lat,1),len(source_list)))\n",
    "LON         = np.nan * np.ones(shape=(np.size(lat,0),np.size(lat,1),len(source_list)))\n",
    "MAX_WIND    = np.nan * np.ones(shape=(np.size(lat,0),np.size(lat,1),len(source_list)))\n",
    "MIN_PRES    = np.nan * np.ones(shape=(np.size(lat,0),np.size(lat,1),len(source_list)))\n",
    "DIST2LAND   = np.nan * np.ones(shape=(np.size(lat,0),np.size(lat,1),len(source_list)))\n",
    "TIME_RECORD = np.nan * np.ones(shape=(np.size(lat,0),np.size(lat,1),len(source_list)))\n",
    "LANDFALL    = np.nan * np.ones(shape=(np.size(lat,0),np.size(lat,1),len(source_list)))\n",
    "\n",
    "for INDEX_RECORD_SOURCE in source_list: \n",
    "    LAT      [:,:,source_list.index(INDEX_RECORD_SOURCE)] = lat[:,:,INDEX_RECORD_SOURCE] \n",
    "    LON      [:,:,source_list.index(INDEX_RECORD_SOURCE)] = lon[:,:,INDEX_RECORD_SOURCE]\n",
    "    MAX_WIND [:,:,source_list.index(INDEX_RECORD_SOURCE)] = max_wind[:,:,INDEX_RECORD_SOURCE]\n",
    "    MIN_PRES [:,:,source_list.index(INDEX_RECORD_SOURCE)] = min_pres[:,:,INDEX_RECORD_SOURCE]\n",
    "    \n",
    "    DIST2LAND   = dist2land.data[:]\n",
    "    TIME_RECORD = time_record.data[:]\n",
    "    LANDFALL    = landfall.data[:].astype(float)\n",
    "\n",
    "TCinseason = [] #Index of TCs occuring on or after 2014, needed for rainfall\n",
    "for i in range(len(list(season))):\n",
    "    if list(season)[i] >= 2014:\n",
    "        TCinseason.append(i)\n",
    "\n",
    "toc = time.time()\n",
    "print(toc - tic)"
   ]
  },
  {
   "cell_type": "code",
   "execution_count": null,
   "metadata": {},
   "outputs": [],
   "source": [
    "ibtr_var = [name, storm_sn, time_record, landfall, genesis_basin, \n",
    "            season, lat, lon, max_wind, min_pres, dist2land]\n",
    "\n",
    "ibtr_var_str = ['name', 'storm_sn', 'time_record', 'landfall', 'genesis_basin',\n",
    "                'season', 'lat', 'lon', 'max_wind', 'min_pres', 'dist2land']\n",
    "\n",
    "etopo1_var = [landmask_lon, landmask_lat, z]\n",
    "\n"
   ]
  },
  {
   "cell_type": "code",
   "execution_count": null,
   "metadata": {},
   "outputs": [],
   "source": [
    "zip(ibtr_var_str,ibtr_var)"
   ]
  },
  {
   "cell_type": "code",
   "execution_count": null,
   "metadata": {},
   "outputs": [],
   "source": [
    "for str_var, var in zip(ibtr_var_str, ibtr_var):\n",
    "    path_to_data = os.path.join('data',str_var)\n",
    "    var.dump(path_to_data)"
   ]
  },
  {
   "cell_type": "code",
   "execution_count": null,
   "metadata": {},
   "outputs": [],
   "source": [
    "storm_sn"
   ]
  },
  {
   "cell_type": "code",
   "execution_count": null,
   "metadata": {},
   "outputs": [],
   "source": [
    "path_to_data = os.path.join('data')\n",
    "ibtr_var = []\n",
    "\n",
    "for filename in os.listdir(path_to_data):\n",
    "    ibtr_var.append(np.load(os.path.join(path_to_data,filename)))"
   ]
  }
 ],
 "metadata": {
  "kernelspec": {
   "display_name": "Python 3",
   "language": "python",
   "name": "python3"
  },
  "language_info": {
   "codemirror_mode": {
    "name": "ipython",
    "version": 3
   },
   "file_extension": ".py",
   "mimetype": "text/x-python",
   "name": "python",
   "nbconvert_exporter": "python",
   "pygments_lexer": "ipython3",
   "version": "3.6.6"
  }
 },
 "nbformat": 4,
 "nbformat_minor": 2
}
