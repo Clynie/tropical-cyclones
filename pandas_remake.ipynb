{
 "cells": [
  {
   "cell_type": "code",
   "execution_count": null,
   "metadata": {},
   "outputs": [],
   "source": [
    "import numpy as np\n",
    "import os\n",
    "import pandas as pd\n",
    "import matplotlib as mpl\n",
    "from matplotlib import pyplot as plt\n",
    "import netCDF4\n",
    "import time\n",
    "import xarray"
   ]
  },
  {
   "cell_type": "code",
   "execution_count": null,
   "metadata": {},
   "outputs": [],
   "source": [
    "\"\"\" Read .nc file into pandas dataframe.\"\"\"\n",
    "#Runtime around 677 seconds using perf_counter.\n",
    "\n",
    "tic = time.process_time()\n",
    "\n",
    "nc_ibtracs = 'Allstorms.ibtracs_all.v03r10.nc'\n",
    "path_to_nc = os.path.join('..','deconstruct_cyn',nc_ibtracs)\n",
    "\n",
    "ibt_all_fields = xarray.open_dataset(path_to_nc).to_dataframe()\n",
    "# name, storm_sn, time_record, landfall, \n",
    "# genesis_basin, season, \n",
    "# lat, lon, max_wind, min_pres, dist2land are the interesting variables\n",
    "\n",
    "columns_we_want = ['storm_sn',\n",
    "                   'name',\n",
    "                   'source_time',\n",
    "                   'landfall',\n",
    "                   'genesis_basin',\n",
    "                   'season',\n",
    "                   'source_lat',\n",
    "                   'source_lon',\n",
    "                   'source_wind',\n",
    "                   'source_pres',\n",
    "                   'dist2land']\n",
    "\n",
    "ibt = ibt_all_fields[columns_we_want]\n",
    "\n",
    "renamed_columns = ['storm_sn',\n",
    "                   'name',\n",
    "                   'time_recorded',\n",
    "                   'landfall',\n",
    "                   'genesis_basin',\n",
    "                   'season',\n",
    "                   'lat',\n",
    "                   'lon',\n",
    "                   'max_wind',\n",
    "                   'min_pres',\n",
    "                   'dist2land']\n",
    "\n",
    "columns = dict(zip(columns_we_want, renamed_columns))\n",
    "\n",
    "toc = time.process_time()\n",
    "\n",
    "elapsed = toc - tic\n",
    "print(elapsed)\n",
    "#ibt"
   ]
  },
  {
   "cell_type": "raw",
   "metadata": {
    "scrolled": true
   },
   "source": [
    "ibt_all_fields.loc[:]"
   ]
  },
  {
   "cell_type": "code",
   "execution_count": null,
   "metadata": {},
   "outputs": [],
   "source": [
    "ibt2 = ibt.rename(index=str, columns = columns)"
   ]
  },
  {
   "cell_type": "code",
   "execution_count": null,
   "metadata": {},
   "outputs": [],
   "source": [
    "ibt2.index.__dict__['_levels']"
   ]
  },
  {
   "cell_type": "raw",
   "metadata": {},
   "source": [
    "ibt2.loc[\"10\",:]"
   ]
  },
  {
   "cell_type": "raw",
   "metadata": {},
   "source": [
    "ibt2.loc[pd.notna(ibt2[\"max_wind\"]),:]"
   ]
  },
  {
   "cell_type": "raw",
   "metadata": {},
   "source": [
    "ibt2.iloc[-1,:]"
   ]
  },
  {
   "cell_type": "code",
   "execution_count": null,
   "metadata": {
    "scrolled": true
   },
   "outputs": [],
   "source": [
    "ibt2.loc[\"10\",:]"
   ]
  },
  {
   "cell_type": "code",
   "execution_count": null,
   "metadata": {},
   "outputs": [],
   "source": [
    "ibt2"
   ]
  },
  {
   "cell_type": "code",
   "execution_count": null,
   "metadata": {},
   "outputs": [],
   "source": [
    "ibt2.loc[pd.notna(ibt2[\"lat\"]),:]"
   ]
  },
  {
   "cell_type": "code",
   "execution_count": null,
   "metadata": {},
   "outputs": [],
   "source": []
  },
  {
   "cell_type": "code",
   "execution_count": null,
   "metadata": {
    "scrolled": false
   },
   "outputs": [],
   "source": []
  },
  {
   "cell_type": "raw",
   "metadata": {},
   "source": [
    "plt.scatter(ibt2.loc[\"10\",\"max_wind\"], ibt2.loc[\"21\",\"max_wind\"])"
   ]
  },
  {
   "cell_type": "raw",
   "metadata": {},
   "source": [
    "netCDF4.num2date(ibt2.loc[\"10\",\"time_recorded\"], r\"gregorian\")"
   ]
  },
  {
   "cell_type": "code",
   "execution_count": null,
   "metadata": {},
   "outputs": [],
   "source": [
    "\"\"\" Import landmask.\"\"\"\n",
    "#Elapsed time ~10 seconds.\n",
    "tic = time.process_time()\n",
    "\n",
    "nc_landmask = 'ETOPO1_Ice_g_gmt4.nc' #Land mask from ETOPO1 Global Relief Model\n",
    "path_to_nc2 = os.path.join('..','deconstruct_cyn',nc_landmask)\n",
    "\n",
    "landmask_all_fields = xarray.open_dataset(path_to_nc2).to_dataframe()\n",
    "\n",
    "\"\"\"\n",
    "columns_we_want = ['storm_sn',\n",
    "                   'name',\n",
    "                   'source_time',\n",
    "                   'landfall',\n",
    "                   'genesis_basin',\n",
    "                   'season',\n",
    "                   'source_lat',\n",
    "                   'source_lon',\n",
    "                   'source_wind',\n",
    "                   'source_pres',\n",
    "                   'dist2land']\n",
    "\n",
    "landmask = landmask_all_fields[columns_we_want]\n",
    "\n",
    "columns = dict(zip(columns_we_want, renamed_columns))\n",
    "\"\"\"\n",
    "\n",
    "toc = time.process_time()\n",
    "\n",
    "elapsed = toc - tic\n",
    "print(elapsed)"
   ]
  },
  {
   "cell_type": "code",
   "execution_count": null,
   "metadata": {},
   "outputs": [],
   "source": [
    "landmask_all_fields[landmask_all_fields.z > 0]"
   ]
  },
  {
   "cell_type": "code",
   "execution_count": null,
   "metadata": {},
   "outputs": [],
   "source": [
    "landmask_all_fields.index.names"
   ]
  },
  {
   "cell_type": "code",
   "execution_count": null,
   "metadata": {},
   "outputs": [],
   "source": [
    "landmask_all_fields['lon'] = pd.Series(landmask_all_fields.index._levels[1])"
   ]
  },
  {
   "cell_type": "code",
   "execution_count": null,
   "metadata": {},
   "outputs": [],
   "source": [
    "land = landmask_all_fields[landmask_all_fields.z > 0]"
   ]
  },
  {
   "cell_type": "code",
   "execution_count": null,
   "metadata": {},
   "outputs": [],
   "source": [
    "land.reindex()"
   ]
  },
  {
   "cell_type": "code",
   "execution_count": null,
   "metadata": {},
   "outputs": [],
   "source": [
    "land['lat']"
   ]
  },
  {
   "cell_type": "code",
   "execution_count": null,
   "metadata": {},
   "outputs": [],
   "source": [
    "lm2 = landmask_all_fields.reindex()"
   ]
  },
  {
   "cell_type": "code",
   "execution_count": null,
   "metadata": {},
   "outputs": [],
   "source": []
  }
 ],
 "metadata": {
  "kernelspec": {
   "display_name": "Python 3",
   "language": "python",
   "name": "python3"
  },
  "language_info": {
   "codemirror_mode": {
    "name": "ipython",
    "version": 3
   },
   "file_extension": ".py",
   "mimetype": "text/x-python",
   "name": "python",
   "nbconvert_exporter": "python",
   "pygments_lexer": "ipython3",
   "version": "3.6.6"
  }
 },
 "nbformat": 4,
 "nbformat_minor": 2
}
