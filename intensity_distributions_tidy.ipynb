{
 "cells": [
  {
   "cell_type": "code",
   "execution_count": null,
   "metadata": {},
   "outputs": [],
   "source": [
    "import numpy as np\n",
    "import pandas as pd\n",
    "from matplotlib import pyplot as plt\n",
    "import scipy.stats\n",
    "from scipy.optimize import minimize\n",
    "from scipy.special import factorial\n",
    "import seaborn as sns\n",
    "sns.set()\n",
    "\n",
    "import netCDF4\n",
    "import os\n",
    "import time\n",
    "import xarray"
   ]
  },
  {
   "cell_type": "code",
   "execution_count": null,
   "metadata": {},
   "outputs": [],
   "source": [
    "phil_cyclones = pd.read_pickle(os.path.join('..','deconstruct_cyn','phil_cyclones.pkl'))"
   ]
  },
  {
   "cell_type": "code",
   "execution_count": null,
   "metadata": {},
   "outputs": [],
   "source": [
    "environmental_pressure = 1009.0\n",
    "phil_cyclones['pressure_deficit'] = environmental_pressure - phil_cyclones['min_pres'] "
   ]
  },
  {
   "cell_type": "markdown",
   "metadata": {},
   "source": [
    "# Intensity Distributions.\n",
    "\n",
    "Input:\n",
    "\n",
    "phil_cyclones - a list of all the cyclones from ibtracs with etopo height data within phillipines bounding box.\n",
    "\n",
    "Output:\n",
    "\n",
    "Probability density of intensity (choose v_max or p_min below) distribution with chi-square fit.\n",
    "\n",
    "I want to create a plot of the highest v_max a given cyclone ever reaches.\n",
    "I want to create a plot of the v_max cyclones reach the timestep before landfall."
   ]
  },
  {
   "cell_type": "markdown",
   "metadata": {},
   "source": [
    "### Choose an agency and distribution type"
   ]
  },
  {
   "cell_type": "code",
   "execution_count": null,
   "metadata": {},
   "outputs": [],
   "source": [
    "ag_choice = 'WMO'\n",
    "v_or_p = 'pressure_deficit' #max_wind or min_pres or pressure_deficit"
   ]
  },
  {
   "cell_type": "code",
   "execution_count": null,
   "metadata": {},
   "outputs": [],
   "source": [
    "#Extra variables for labelling figures when plotting.\n",
    "agency = {\n",
    "    'JTWC': '10',\n",
    "    'CMA' : '14',\n",
    "    'WMO' : '19',\n",
    "    'HKO' : '21'\n",
    "}\n",
    "\n",
    "if v_or_p == 'max_wind':\n",
    "    unit = 'kt'\n",
    "    long_name = 'Maximum Sustained Wind'\n",
    "elif v_or_p == 'min_pres':\n",
    "    unit = 'mb'\n",
    "    long_name = 'Minimum Central Pressure'\n",
    "elif v_or_p == 'pressure_deficit':\n",
    "    unit = 'mb'\n",
    "    long_name = '{:.0e} mb - Minimum Central Pressure'.format(environmental_pressure)\n",
    "else:\n",
    "    raise(KeyError, \"{} is neither 'max_wind', 'min_pres', nor 'pressure_deficit'\".format(v_or_p))"
   ]
  },
  {
   "cell_type": "markdown",
   "metadata": {},
   "source": [
    "---------------------------"
   ]
  },
  {
   "cell_type": "markdown",
   "metadata": {},
   "source": [
    "Some of the agencies have missing values for the maximum wind and minimum pressure.\n",
    "\n",
    "#### Are any of the values null?\n",
    "\n",
    "| Agency | Max Wind | Min Pressure | Pressure Def |\n",
    "|--------|----------|--------------|--------------|\n",
    "| JTWC   | Yes      | Yes          | Yes          |\n",
    "| CMA    | Yes      | No           | No           |\n",
    "| WMO    | Yes      | No           | No           |\n",
    "| HKO    | No       | No           | No           |"
   ]
  },
  {
   "cell_type": "markdown",
   "metadata": {},
   "source": [
    "-----------------------------------"
   ]
  },
  {
   "cell_type": "code",
   "execution_count": null,
   "metadata": {},
   "outputs": [],
   "source": [
    "phil7withoutna = phil_cyclones[phil_cyclones[v_or_p].notnull()]"
   ]
  },
  {
   "cell_type": "code",
   "execution_count": null,
   "metadata": {},
   "outputs": [],
   "source": [
    "intensity7 = phil7withoutna.groupby(['storm_sn', 'center'])['max_wind','min_pres', 'pressure_deficit'].max().unstack()"
   ]
  },
  {
   "cell_type": "code",
   "execution_count": null,
   "metadata": {},
   "outputs": [],
   "source": [
    "probdist7 = intensity7[v_or_p][agency[ag_choice]].value_counts().sort_index()\n",
    "probdist7"
   ]
  },
  {
   "cell_type": "code",
   "execution_count": null,
   "metadata": {},
   "outputs": [],
   "source": [
    "plt.scatter(probdist7.index, probdist7.values)\n",
    "plt.xlabel('{} of cyclone along track within phillipines box ({})'.format(v_or_p, unit))\n",
    "plt.ylabel('Number of cyclones in sample')\n",
    "plt.title('{} {}'.format(ag_choice, v_or_p))\n",
    "\n",
    "figpath = os.path.join('figures','{} {}.png'.format(ag_choice, v_or_p))\n",
    "plt.savefig(figpath)"
   ]
  },
  {
   "cell_type": "code",
   "execution_count": null,
   "metadata": {},
   "outputs": [],
   "source": [
    "sns.pairplot(intensity7[v_or_p][['10','14','19','21']]).savefig(os.path.join('figures','{} pairplot.png'.format(v_or_p)))"
   ]
  }
 ],
 "metadata": {
  "kernelspec": {
   "display_name": "Python 3",
   "language": "python",
   "name": "python3"
  },
  "language_info": {
   "codemirror_mode": {
    "name": "ipython",
    "version": 3
   },
   "file_extension": ".py",
   "mimetype": "text/x-python",
   "name": "python",
   "nbconvert_exporter": "python",
   "pygments_lexer": "ipython3",
   "version": "3.6.6"
  }
 },
 "nbformat": 4,
 "nbformat_minor": 2
}
